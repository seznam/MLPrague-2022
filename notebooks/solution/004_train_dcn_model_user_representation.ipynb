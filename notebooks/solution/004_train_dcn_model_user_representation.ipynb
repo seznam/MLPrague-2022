{
  "cells": [
    {
      "cell_type": "markdown",
      "metadata": {
        "id": "312cda46-c590-42dd-abbb-b201ea693715"
      },
      "source": [
        "# Train ranking model with user representation\n",
        " - In the following notebook we will train [DCN model](https://www.tensorflow.org/recommenders/examples/dcn)\n",
        " - Model performance will be evaluate via the following metrics:\n",
        "   - [novelty](https://gab41.lab41.org/recommender-systems-its-not-all-about-the-accuracy-562c7dceeaff):\n",
        " $\\large\\frac{\\sum_{u}^{U} \\sum_{l}^{L_u} \\frac{- log(P_{l})}{|L_u|}}{|U|}$, where $U$ is a set of all users and $L_u$ is a list of recommended arcicles for a user $u$\n",
        "   - [AUC](https://developers.google.com/machine-learning/crash-course/classification/roc-and-auc)"
      ],
      "id": "312cda46-c590-42dd-abbb-b201ea693715"
    },
    {
      "cell_type": "code",
      "execution_count": null,
      "metadata": {
        "colab": {
          "base_uri": "https://localhost:8080/"
        },
        "id": "e7ef26e6-0787-4a44-90b8-6eb4fa4b106e",
        "outputId": "5cb96a2e-798a-4eb5-abc5-050bb78febc7"
      },
      "outputs": [
        {
          "name": "stdout",
          "output_type": "stream",
          "text": [
            "Mounted at /content/gdrive\n"
          ]
        }
      ],
      "source": [
        "# import necessary functionality\n",
        "import os\n",
        "\n",
        "try:\n",
        "    from google.colab import drive\n",
        "\n",
        "    drive.mount('/content/gdrive')\n",
        "    BASE_DIR = \"/content/gdrive/MyDrive/mlprague2022\"\n",
        "    IN_COLAB = True\n",
        "except:\n",
        "    BASE_DIR = \"..\"\n",
        "    os.environ[\"CUDA_DEVICE_ORDER\"] = \"PCI_BUS_ID\"\n",
        "    os.environ[\"CUDA_VISIBLE_DEVICES\"] = \"0\"\n",
        "    IN_COLAB = False"
      ],
      "id": "e7ef26e6-0787-4a44-90b8-6eb4fa4b106e"
    },
    {
      "cell_type": "code",
      "execution_count": null,
      "metadata": {
        "colab": {
          "base_uri": "https://localhost:8080/"
        },
        "id": "H0ZrPYoPlgFN",
        "outputId": "5337d94b-677f-43b1-a840-5fc4e2b43d39"
      },
      "outputs": [
        {
          "name": "stdout",
          "output_type": "stream",
          "text": [
            "Collecting git+https://github.com/seznam/MLPrague-2022.git\n",
            "  Cloning https://github.com/seznam/MLPrague-2022.git to /tmp/pip-req-build-x91ylse9\n",
            "  Running command git clone -q https://github.com/seznam/MLPrague-2022.git /tmp/pip-req-build-x91ylse9\n",
            "Collecting tensorflow-recommenders==0.5.2\n",
            "  Downloading tensorflow_recommenders-0.5.2-py3-none-any.whl (85 kB)\n",
            "\u001b[K     |████████████████████████████████| 85 kB 2.2 MB/s \n",
            "\u001b[?25hRequirement already satisfied: tensorflow>=2.3.0 in /usr/local/lib/python3.7/dist-packages (from tensorflow-recommenders==0.5.2) (2.8.0)\n",
            "Requirement already satisfied: absl-py>=0.1.6 in /usr/local/lib/python3.7/dist-packages (from tensorflow-recommenders==0.5.2) (1.0.0)\n",
            "Requirement already satisfied: six in /usr/local/lib/python3.7/dist-packages (from absl-py>=0.1.6->tensorflow-recommenders==0.5.2) (1.15.0)\n",
            "Requirement already satisfied: google-pasta>=0.1.1 in /usr/local/lib/python3.7/dist-packages (from tensorflow>=2.3.0->tensorflow-recommenders==0.5.2) (0.2.0)\n",
            "Requirement already satisfied: tensorflow-io-gcs-filesystem>=0.23.1 in /usr/local/lib/python3.7/dist-packages (from tensorflow>=2.3.0->tensorflow-recommenders==0.5.2) (0.24.0)\n",
            "Requirement already satisfied: libclang>=9.0.1 in /usr/local/lib/python3.7/dist-packages (from tensorflow>=2.3.0->tensorflow-recommenders==0.5.2) (13.0.0)\n",
            "Requirement already satisfied: grpcio<2.0,>=1.24.3 in /usr/local/lib/python3.7/dist-packages (from tensorflow>=2.3.0->tensorflow-recommenders==0.5.2) (1.44.0)\n",
            "Requirement already satisfied: protobuf>=3.9.2 in /usr/local/lib/python3.7/dist-packages (from tensorflow>=2.3.0->tensorflow-recommenders==0.5.2) (3.17.3)\n",
            "Requirement already satisfied: numpy>=1.20 in /usr/local/lib/python3.7/dist-packages (from tensorflow>=2.3.0->tensorflow-recommenders==0.5.2) (1.21.5)\n",
            "Requirement already satisfied: gast>=0.2.1 in /usr/local/lib/python3.7/dist-packages (from tensorflow>=2.3.0->tensorflow-recommenders==0.5.2) (0.5.3)\n",
            "Requirement already satisfied: wrapt>=1.11.0 in /usr/local/lib/python3.7/dist-packages (from tensorflow>=2.3.0->tensorflow-recommenders==0.5.2) (1.14.0)\n",
            "Requirement already satisfied: astunparse>=1.6.0 in /usr/local/lib/python3.7/dist-packages (from tensorflow>=2.3.0->tensorflow-recommenders==0.5.2) (1.6.3)\n",
            "Collecting tf-estimator-nightly==2.8.0.dev2021122109\n",
            "  Downloading tf_estimator_nightly-2.8.0.dev2021122109-py2.py3-none-any.whl (462 kB)\n",
            "\u001b[K     |████████████████████████████████| 462 kB 33.8 MB/s \n",
            "\u001b[?25hRequirement already satisfied: setuptools in /usr/local/lib/python3.7/dist-packages (from tensorflow>=2.3.0->tensorflow-recommenders==0.5.2) (57.4.0)\n",
            "Requirement already satisfied: tensorboard<2.9,>=2.8 in /usr/local/lib/python3.7/dist-packages (from tensorflow>=2.3.0->tensorflow-recommenders==0.5.2) (2.8.0)\n",
            "Requirement already satisfied: keras-preprocessing>=1.1.1 in /usr/local/lib/python3.7/dist-packages (from tensorflow>=2.3.0->tensorflow-recommenders==0.5.2) (1.1.2)\n",
            "Requirement already satisfied: typing-extensions>=3.6.6 in /usr/local/lib/python3.7/dist-packages (from tensorflow>=2.3.0->tensorflow-recommenders==0.5.2) (4.1.1)\n",
            "Requirement already satisfied: termcolor>=1.1.0 in /usr/local/lib/python3.7/dist-packages (from tensorflow>=2.3.0->tensorflow-recommenders==0.5.2) (1.1.0)\n",
            "Requirement already satisfied: flatbuffers>=1.12 in /usr/local/lib/python3.7/dist-packages (from tensorflow>=2.3.0->tensorflow-recommenders==0.5.2) (2.0)\n",
            "Requirement already satisfied: keras<2.9,>=2.8.0rc0 in /usr/local/lib/python3.7/dist-packages (from tensorflow>=2.3.0->tensorflow-recommenders==0.5.2) (2.8.0)\n",
            "Requirement already satisfied: h5py>=2.9.0 in /usr/local/lib/python3.7/dist-packages (from tensorflow>=2.3.0->tensorflow-recommenders==0.5.2) (3.1.0)\n",
            "Requirement already satisfied: opt-einsum>=2.3.2 in /usr/local/lib/python3.7/dist-packages (from tensorflow>=2.3.0->tensorflow-recommenders==0.5.2) (3.3.0)\n",
            "Requirement already satisfied: wheel<1.0,>=0.23.0 in /usr/local/lib/python3.7/dist-packages (from astunparse>=1.6.0->tensorflow>=2.3.0->tensorflow-recommenders==0.5.2) (0.37.1)\n",
            "Requirement already satisfied: cached-property in /usr/local/lib/python3.7/dist-packages (from h5py>=2.9.0->tensorflow>=2.3.0->tensorflow-recommenders==0.5.2) (1.5.2)\n",
            "Requirement already satisfied: werkzeug>=0.11.15 in /usr/local/lib/python3.7/dist-packages (from tensorboard<2.9,>=2.8->tensorflow>=2.3.0->tensorflow-recommenders==0.5.2) (1.0.1)\n",
            "Requirement already satisfied: requests<3,>=2.21.0 in /usr/local/lib/python3.7/dist-packages (from tensorboard<2.9,>=2.8->tensorflow>=2.3.0->tensorflow-recommenders==0.5.2) (2.23.0)\n",
            "Requirement already satisfied: tensorboard-data-server<0.7.0,>=0.6.0 in /usr/local/lib/python3.7/dist-packages (from tensorboard<2.9,>=2.8->tensorflow>=2.3.0->tensorflow-recommenders==0.5.2) (0.6.1)\n",
            "Requirement already satisfied: google-auth-oauthlib<0.5,>=0.4.1 in /usr/local/lib/python3.7/dist-packages (from tensorboard<2.9,>=2.8->tensorflow>=2.3.0->tensorflow-recommenders==0.5.2) (0.4.6)\n",
            "Requirement already satisfied: google-auth<3,>=1.6.3 in /usr/local/lib/python3.7/dist-packages (from tensorboard<2.9,>=2.8->tensorflow>=2.3.0->tensorflow-recommenders==0.5.2) (1.35.0)\n",
            "Requirement already satisfied: tensorboard-plugin-wit>=1.6.0 in /usr/local/lib/python3.7/dist-packages (from tensorboard<2.9,>=2.8->tensorflow>=2.3.0->tensorflow-recommenders==0.5.2) (1.8.1)\n",
            "Requirement already satisfied: markdown>=2.6.8 in /usr/local/lib/python3.7/dist-packages (from tensorboard<2.9,>=2.8->tensorflow>=2.3.0->tensorflow-recommenders==0.5.2) (3.3.6)\n",
            "Requirement already satisfied: rsa<5,>=3.1.4 in /usr/local/lib/python3.7/dist-packages (from google-auth<3,>=1.6.3->tensorboard<2.9,>=2.8->tensorflow>=2.3.0->tensorflow-recommenders==0.5.2) (4.8)\n",
            "Requirement already satisfied: pyasn1-modules>=0.2.1 in /usr/local/lib/python3.7/dist-packages (from google-auth<3,>=1.6.3->tensorboard<2.9,>=2.8->tensorflow>=2.3.0->tensorflow-recommenders==0.5.2) (0.2.8)\n",
            "Requirement already satisfied: cachetools<5.0,>=2.0.0 in /usr/local/lib/python3.7/dist-packages (from google-auth<3,>=1.6.3->tensorboard<2.9,>=2.8->tensorflow>=2.3.0->tensorflow-recommenders==0.5.2) (4.2.4)\n",
            "Requirement already satisfied: requests-oauthlib>=0.7.0 in /usr/local/lib/python3.7/dist-packages (from google-auth-oauthlib<0.5,>=0.4.1->tensorboard<2.9,>=2.8->tensorflow>=2.3.0->tensorflow-recommenders==0.5.2) (1.3.1)\n",
            "Requirement already satisfied: importlib-metadata>=4.4 in /usr/local/lib/python3.7/dist-packages (from markdown>=2.6.8->tensorboard<2.9,>=2.8->tensorflow>=2.3.0->tensorflow-recommenders==0.5.2) (4.11.3)\n",
            "Requirement already satisfied: zipp>=0.5 in /usr/local/lib/python3.7/dist-packages (from importlib-metadata>=4.4->markdown>=2.6.8->tensorboard<2.9,>=2.8->tensorflow>=2.3.0->tensorflow-recommenders==0.5.2) (3.8.0)\n",
            "Requirement already satisfied: pyasn1<0.5.0,>=0.4.6 in /usr/local/lib/python3.7/dist-packages (from pyasn1-modules>=0.2.1->google-auth<3,>=1.6.3->tensorboard<2.9,>=2.8->tensorflow>=2.3.0->tensorflow-recommenders==0.5.2) (0.4.8)\n",
            "Requirement already satisfied: urllib3!=1.25.0,!=1.25.1,<1.26,>=1.21.1 in /usr/local/lib/python3.7/dist-packages (from requests<3,>=2.21.0->tensorboard<2.9,>=2.8->tensorflow>=2.3.0->tensorflow-recommenders==0.5.2) (1.24.3)\n",
            "Requirement already satisfied: certifi>=2017.4.17 in /usr/local/lib/python3.7/dist-packages (from requests<3,>=2.21.0->tensorboard<2.9,>=2.8->tensorflow>=2.3.0->tensorflow-recommenders==0.5.2) (2021.10.8)\n",
            "Requirement already satisfied: chardet<4,>=3.0.2 in /usr/local/lib/python3.7/dist-packages (from requests<3,>=2.21.0->tensorboard<2.9,>=2.8->tensorflow>=2.3.0->tensorflow-recommenders==0.5.2) (3.0.4)\n",
            "Requirement already satisfied: idna<3,>=2.5 in /usr/local/lib/python3.7/dist-packages (from requests<3,>=2.21.0->tensorboard<2.9,>=2.8->tensorflow>=2.3.0->tensorflow-recommenders==0.5.2) (2.10)\n",
            "Requirement already satisfied: oauthlib>=3.0.0 in /usr/local/lib/python3.7/dist-packages (from requests-oauthlib>=0.7.0->google-auth-oauthlib<0.5,>=0.4.1->tensorboard<2.9,>=2.8->tensorflow>=2.3.0->tensorflow-recommenders==0.5.2) (3.2.0)\n",
            "Building wheels for collected packages: mlprague22\n",
            "  Building wheel for mlprague22 (setup.py) ... \u001b[?25l\u001b[?25hdone\n",
            "  Created wheel for mlprague22: filename=mlprague22-0.0.0-py3-none-any.whl size=4259 sha256=b34ecf137cd28c9f7b326e0a525b8ea48d5c2c353f1f7863e5b98ae6e042f9fa\n",
            "  Stored in directory: /tmp/pip-ephem-wheel-cache-6shyaunj/wheels/8e/30/46/f600aaa9e010eb66abaae33828e5ee3596fcdccb523d593440\n",
            "Successfully built mlprague22\n",
            "Installing collected packages: tf-estimator-nightly, tensorflow-recommenders, mlprague22\n",
            "Successfully installed mlprague22-0.0.0 tensorflow-recommenders-0.5.2 tf-estimator-nightly-2.8.0.dev2021122109\n"
          ]
        }
      ],
      "source": [
        "!pip install git+https://github.com/seznam/MLPrague-2022.git tensorflow-recommenders==0.5.2"
      ],
      "id": "H0ZrPYoPlgFN"
    },
    {
      "cell_type": "code",
      "execution_count": null,
      "metadata": {
        "id": "f187d123-545d-4fd9-b9cc-38c3722213a6"
      },
      "outputs": [],
      "source": [
        "import gc\n",
        "\n",
        "from collections import Counter, OrderedDict\n",
        "from copy import deepcopy\n",
        "\n",
        "import matplotlib.pyplot as plt\n",
        "\n",
        "import tensorflow as tf\n",
        "import tensorflow_datasets as tfds\n",
        "import tensorflow_recommenders as tfrs\n",
        "\n",
        "import pandas as pd\n",
        "import numpy as np\n",
        "\n",
        "import sklearn.metrics as metrics\n",
        "\n",
        "from itertools import zip_longest\n",
        "\n",
        "from mlprague22.evaluation import evaluate, sample_users, sample_items"
      ],
      "id": "f187d123-545d-4fd9-b9cc-38c3722213a6"
    },
    {
      "cell_type": "code",
      "execution_count": null,
      "metadata": {
        "id": "19867ad5-20cf-42af-9edf-58532ba1f9af"
      },
      "outputs": [],
      "source": [
        "RANDOM_SEED = 42\n",
        "BATCH_SIZE = 8_192\n",
        "EPOCHS = 10\n",
        "\n",
        "OUTPUT_DIR = os.path.join(BASE_DIR, \"data/mind_cold_start_datasets_basic/\")\n",
        "\n",
        "COLD_START_BEHAVIORS_TRAIN = os.path.join(OUTPUT_DIR, \"behaviors_train.tsv\")\n",
        "COLD_START_BEHAVIORS_TEST = os.path.join(OUTPUT_DIR, \"behaviors_test.tsv\")\n",
        "NEWS_CATALOGUE_TRAIN = os.path.join(OUTPUT_DIR, \"news_catalogue_train.tsv\")\n",
        "NEWS_CATALOGUE_TEST = os.path.join(OUTPUT_DIR, \"news_catalogue_test.tsv\")\n",
        "AUXILIARY_DATA_CATALOGUE_TRAIN = os.path.join(OUTPUT_DIR, \"auxiliary_data_catalogue_train.tsv\")\n",
        "AUXILIARY_DATA_CATALOGUE_TEST = os.path.join(OUTPUT_DIR, \"auxiliary_data_catalogue_test.tsv\")\n",
        "ALL_CATEGORIES_PATH = os.path.join(OUTPUT_DIR, \"categories.tsv\")\n",
        "ALL_SUBCATEGORIES_PATH = os.path.join(OUTPUT_DIR, \"subcategories.tsv\")\n",
        "TRAIN_DF_OUTPUT_PATH = os.path.join(OUTPUT_DIR, \"train_ex_df.csv\")\n",
        "TEST_DF_OUTPUT_PATH = os.path.join(OUTPUT_DIR, \"test_no_item_coldstart_ex_df.csv\")\n",
        "EMBEDDINGS_OUTPUT_DIR = os.path.join(OUTPUT_DIR, \"embeddings\")\n",
        "FT_HISTORY_EMBEDDINGS_TRAIN = \"ft_histories_train.vec\"\n",
        "FT_HISTORY_EMBEDDINGS_TEST = \"ft_histories_test.vec\"\n",
        "EMBEDDINGS_OUTPUT_TRAIN = os.path.join(EMBEDDINGS_OUTPUT_DIR, FT_HISTORY_EMBEDDINGS_TRAIN)\n",
        "EMBEDDINGS_OUTPUT_TEST = os.path.join(EMBEDDINGS_OUTPUT_DIR, FT_HISTORY_EMBEDDINGS_TEST)\n",
        "MODEL_DIR = os.path.join(OUTPUT_DIR, \"models\")"
      ],
      "id": "19867ad5-20cf-42af-9edf-58532ba1f9af"
    },
    {
      "cell_type": "code",
      "execution_count": null,
      "metadata": {
        "id": "c06e74a8-b399-48dc-bece-7bb92e481da7"
      },
      "outputs": [],
      "source": [
        "# load training/evaluation data\n",
        "CATEGORIES = (\n",
        "    pd.read_csv(ALL_CATEGORIES_PATH, sep=\"\\t\").sort_values(\"order\").category.tolist()\n",
        ")\n",
        "# note: subcategories will be used in TASK 1\n",
        "SUBCATEGORIES = (\n",
        "    pd.read_csv(ALL_SUBCATEGORIES_PATH, sep=\"\\t\").sort_values(\"order\").subcategory.tolist()\n",
        ")\n",
        "behaviors_train = pd.read_csv(COLD_START_BEHAVIORS_TRAIN, sep=\"\\t\")\n",
        "behaviors_test = pd.read_csv(COLD_START_BEHAVIORS_TEST, sep=\"\\t\")\n",
        "news_train = pd.read_csv(NEWS_CATALOGUE_TRAIN, sep=\"\\t\")\n",
        "ft_histories_user_vectors_train = np.loadtxt(EMBEDDINGS_OUTPUT_TRAIN, delimiter=\",\")\n",
        "ft_histories_user_vectors_test = np.loadtxt(EMBEDDINGS_OUTPUT_TEST, delimiter=\",\")"
      ],
      "id": "c06e74a8-b399-48dc-bece-7bb92e481da7"
    },
    {
      "cell_type": "code",
      "execution_count": null,
      "metadata": {
        "id": "94548bee-73f4-47f6-a4c6-4163a7cb699f"
      },
      "outputs": [],
      "source": [
        "tf.config.run_functions_eagerly(True)"
      ],
      "id": "94548bee-73f4-47f6-a4c6-4163a7cb699f"
    },
    {
      "cell_type": "code",
      "execution_count": null,
      "metadata": {
        "id": "7df896f3-9693-4856-bd9e-101730cbf560"
      },
      "outputs": [],
      "source": [
        "def set_seed(seed=RANDOM_SEED):\n",
        "    import random\n",
        "    import numpy as np\n",
        "    import tensorflow as tf\n",
        "\n",
        "    random.seed(seed)\n",
        "    np.random.seed(seed)\n",
        "    tf.random.set_seed(seed)"
      ],
      "id": "7df896f3-9693-4856-bd9e-101730cbf560"
    },
    {
      "cell_type": "code",
      "execution_count": null,
      "metadata": {
        "id": "52f7a5f7-8069-4cd5-8d5e-a1645104cda4"
      },
      "outputs": [],
      "source": [
        "# in order to make this notebook at least partially reproducible set seed of the most common randomness sources\n",
        "set_seed()"
      ],
      "id": "52f7a5f7-8069-4cd5-8d5e-a1645104cda4"
    },
    {
      "cell_type": "markdown",
      "metadata": {
        "id": "6P6jZSLaWFPu"
      },
      "source": [
        "### Load training/eval data\n",
        " - Recommender system usualy presents users with slate level recommendation:"
      ],
      "id": "6P6jZSLaWFPu"
    },
    {
      "cell_type": "markdown",
      "metadata": {
        "id": "2b8391ca-5bf1-4088-9452-4f7310f7c0e2"
      },
      "source": [
        " ![image.png](data:image/png;base64,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)\n"
      ],
      "id": "2b8391ca-5bf1-4088-9452-4f7310f7c0e2"
    },
    {
      "cell_type": "markdown",
      "metadata": {
        "id": "HinRf1NgWISp"
      },
      "source": [
        " - But ranking models are trained on single item recommendation and user direct feeedback - all instances on which user clicked are positive instances and those without click are negative\n",
        " - Therefore one needs to transform dataset into a format in which each row will match single item recommendation and user feedback\n",
        " - We will prepare training and testing dataset and save them in csv format, which can be easily loaded into [tensorflow dataset](https://www.tensorflow.org/api_docs/python/tf/data/Dataset)"
      ],
      "id": "HinRf1NgWISp"
    },
    {
      "cell_type": "code",
      "execution_count": null,
      "metadata": {
        "id": "5301fd44-c694-4cf1-bc59-1a16360d0ca9"
      },
      "outputs": [],
      "source": [
        "def prepare_dataset(input_path, output_path, emb_vecs):\n",
        "    behaviors = pd.read_csv(input_path, sep=\"\\t\")\n",
        "\n",
        "    emb_vecs_str = [\n",
        "        \",\".join([str(i) for i in row]) for row in emb_vecs.tolist()\n",
        "    ]\n",
        "\n",
        "    e_df = (\n",
        "        behaviors[\n",
        "            [\n",
        "                \"userid\",\n",
        "                \"slateid\",\n",
        "                \"history\",\n",
        "                \"impressions\",\n",
        "                \"history_all_categories\",\n",
        "                \"history_all_subcategories\",\n",
        "            ]\n",
        "        ]\n",
        "        .assign(history_all_fasttext_emb=lambda x: emb_vecs_str)\n",
        "        .assign(\n",
        "            impression_arr=lambda x: x.impressions.map(\n",
        "                lambda ii: [i.split(\"-\") for i in ii.split(\" \")]\n",
        "            )\n",
        "        )\n",
        "        .explode(\"impression_arr\")\n",
        "        .assign(impression=lambda x: x.impression_arr.map(lambda xx: xx[0]))\n",
        "        .assign(click=lambda x: x.impression_arr.map(lambda xx: int(xx[1])))\n",
        "        .drop(\"impression_arr\", axis=1)\n",
        "        .assign(history_size=lambda x: x.history.map(lambda xx: len(xx.split())))\n",
        "    )\n",
        "\n",
        "    e_df.to_csv(output_path, sep=\"\\t\", index=False)"
      ],
      "id": "5301fd44-c694-4cf1-bc59-1a16360d0ca9"
    },
    {
      "cell_type": "code",
      "execution_count": null,
      "metadata": {
        "colab": {
          "base_uri": "https://localhost:8080/",
          "height": 624
        },
        "id": "0ce3392f-307a-4ab6-86fa-8b5a3c4e1b7d",
        "outputId": "a4966e0d-8a40-4d21-b594-fd5ab8f77764"
      },
      "outputs": [
        {
          "data": {
            "text/html": [
              "\n",
              "  <div id=\"df-0550a225-6999-48a3-89bb-c2895e359962\">\n",
              "    <div class=\"colab-df-container\">\n",
              "      <div>\n",
              "<style scoped>\n",
              "    .dataframe tbody tr th:only-of-type {\n",
              "        vertical-align: middle;\n",
              "    }\n",
              "\n",
              "    .dataframe tbody tr th {\n",
              "        vertical-align: top;\n",
              "    }\n",
              "\n",
              "    .dataframe thead th {\n",
              "        text-align: right;\n",
              "    }\n",
              "</style>\n",
              "<table border=\"1\" class=\"dataframe\">\n",
              "  <thead>\n",
              "    <tr style=\"text-align: right;\">\n",
              "      <th></th>\n",
              "      <th>userid</th>\n",
              "      <th>slateid</th>\n",
              "      <th>history</th>\n",
              "      <th>impressions</th>\n",
              "      <th>history_all_categories</th>\n",
              "      <th>history_all_subcategories</th>\n",
              "      <th>history_all_fasttext_emb</th>\n",
              "      <th>impression</th>\n",
              "      <th>click</th>\n",
              "      <th>history_size</th>\n",
              "    </tr>\n",
              "  </thead>\n",
              "  <tbody>\n",
              "    <tr>\n",
              "      <th>0</th>\n",
              "      <td>U13740</td>\n",
              "      <td>1</td>\n",
              "      <td>N45794 N19347 N31801</td>\n",
              "      <td>N35729-0</td>\n",
              "      <td>tv sports tv news sports lifestyle movies news...</td>\n",
              "      <td>tvnews baseball_mlb tvnews newscrime football_...</td>\n",
              "      <td>0.02757345512509346,0.05293599143624306,-0.038...</td>\n",
              "      <td>N35729</td>\n",
              "      <td>0</td>\n",
              "      <td>3</td>\n",
              "    </tr>\n",
              "    <tr>\n",
              "      <th>1</th>\n",
              "      <td>U91836</td>\n",
              "      <td>2</td>\n",
              "      <td>N31739 N6072 N63045 N43353 N8129 N1569 N17686 ...</td>\n",
              "      <td>N39317-0 N20495-0 N42977-0</td>\n",
              "      <td>news news news finance travel news news news n...</td>\n",
              "      <td>newscrime newsus newscrime markets travelnews ...</td>\n",
              "      <td>0.023200372233986855,-0.028567129746079445,0.0...</td>\n",
              "      <td>N39317</td>\n",
              "      <td>0</td>\n",
              "      <td>54</td>\n",
              "    </tr>\n",
              "    <tr>\n",
              "      <th>2</th>\n",
              "      <td>U91836</td>\n",
              "      <td>2</td>\n",
              "      <td>N31739 N6072 N63045 N43353 N8129 N1569 N17686 ...</td>\n",
              "      <td>N39317-0 N20495-0 N42977-0</td>\n",
              "      <td>news news news finance travel news news news n...</td>\n",
              "      <td>newscrime newsus newscrime markets travelnews ...</td>\n",
              "      <td>0.023200372233986855,-0.028567129746079445,0.0...</td>\n",
              "      <td>N20495</td>\n",
              "      <td>0</td>\n",
              "      <td>54</td>\n",
              "    </tr>\n",
              "    <tr>\n",
              "      <th>3</th>\n",
              "      <td>U91836</td>\n",
              "      <td>2</td>\n",
              "      <td>N31739 N6072 N63045 N43353 N8129 N1569 N17686 ...</td>\n",
              "      <td>N39317-0 N20495-0 N42977-0</td>\n",
              "      <td>news news news finance travel news news news n...</td>\n",
              "      <td>newscrime newsus newscrime markets travelnews ...</td>\n",
              "      <td>0.023200372233986855,-0.028567129746079445,0.0...</td>\n",
              "      <td>N42977</td>\n",
              "      <td>0</td>\n",
              "      <td>54</td>\n",
              "    </tr>\n",
              "    <tr>\n",
              "      <th>4</th>\n",
              "      <td>U73700</td>\n",
              "      <td>3</td>\n",
              "      <td>N7563 N24233</td>\n",
              "      <td>N23877-0 N49712-0 N64174-0 N46821-0 N48017-0 N...</td>\n",
              "      <td>lifestyle lifestyle news sports tv weather spo...</td>\n",
              "      <td>lifestylebuzz lifestylehomeandgarden newsus fo...</td>\n",
              "      <td>-0.031641364097595215,0.028531450778245926,0.0...</td>\n",
              "      <td>N23877</td>\n",
              "      <td>0</td>\n",
              "      <td>2</td>\n",
              "    </tr>\n",
              "    <tr>\n",
              "      <th>...</th>\n",
              "      <td>...</td>\n",
              "      <td>...</td>\n",
              "      <td>...</td>\n",
              "      <td>...</td>\n",
              "      <td>...</td>\n",
              "      <td>...</td>\n",
              "      <td>...</td>\n",
              "      <td>...</td>\n",
              "      <td>...</td>\n",
              "      <td>...</td>\n",
              "    </tr>\n",
              "    <tr>\n",
              "      <th>1559405</th>\n",
              "      <td>U44625</td>\n",
              "      <td>156964</td>\n",
              "      <td>N3164 N53854 N44649 N26398 N43983 N16516 N6373...</td>\n",
              "      <td>N3663-0 N31147-0 N4107-0 N27515-0 N20495-0 N18...</td>\n",
              "      <td>lifestyle weather news finance entertainment t...</td>\n",
              "      <td>lifestylehomeandgarden weathertopstories newsw...</td>\n",
              "      <td>0.010793088935315609,0.009016992524266243,-0.0...</td>\n",
              "      <td>N25561</td>\n",
              "      <td>0</td>\n",
              "      <td>20</td>\n",
              "    </tr>\n",
              "    <tr>\n",
              "      <th>1559406</th>\n",
              "      <td>U44625</td>\n",
              "      <td>156964</td>\n",
              "      <td>N3164 N53854 N44649 N26398 N43983 N16516 N6373...</td>\n",
              "      <td>N3663-0 N31147-0 N4107-0 N27515-0 N20495-0 N18...</td>\n",
              "      <td>lifestyle weather news finance entertainment t...</td>\n",
              "      <td>lifestylehomeandgarden weathertopstories newsw...</td>\n",
              "      <td>0.010793088935315609,0.009016992524266243,-0.0...</td>\n",
              "      <td>N31556</td>\n",
              "      <td>0</td>\n",
              "      <td>20</td>\n",
              "    </tr>\n",
              "    <tr>\n",
              "      <th>1559407</th>\n",
              "      <td>U44625</td>\n",
              "      <td>156964</td>\n",
              "      <td>N3164 N53854 N44649 N26398 N43983 N16516 N6373...</td>\n",
              "      <td>N3663-0 N31147-0 N4107-0 N27515-0 N20495-0 N18...</td>\n",
              "      <td>lifestyle weather news finance entertainment t...</td>\n",
              "      <td>lifestylehomeandgarden weathertopstories newsw...</td>\n",
              "      <td>0.010793088935315609,0.009016992524266243,-0.0...</td>\n",
              "      <td>N23508</td>\n",
              "      <td>0</td>\n",
              "      <td>20</td>\n",
              "    </tr>\n",
              "    <tr>\n",
              "      <th>1559408</th>\n",
              "      <td>U44625</td>\n",
              "      <td>156964</td>\n",
              "      <td>N3164 N53854 N44649 N26398 N43983 N16516 N6373...</td>\n",
              "      <td>N3663-0 N31147-0 N4107-0 N27515-0 N20495-0 N18...</td>\n",
              "      <td>lifestyle weather news finance entertainment t...</td>\n",
              "      <td>lifestylehomeandgarden weathertopstories newsw...</td>\n",
              "      <td>0.010793088935315609,0.009016992524266243,-0.0...</td>\n",
              "      <td>N39317</td>\n",
              "      <td>0</td>\n",
              "      <td>20</td>\n",
              "    </tr>\n",
              "    <tr>\n",
              "      <th>1559409</th>\n",
              "      <td>U64800</td>\n",
              "      <td>156965</td>\n",
              "      <td>N22997 N48742</td>\n",
              "      <td>N19661-0</td>\n",
              "      <td>news news</td>\n",
              "      <td>newscrime newscrime</td>\n",
              "      <td>0.0838380977511406,-0.12305797636508942,-0.093...</td>\n",
              "      <td>N19661</td>\n",
              "      <td>0</td>\n",
              "      <td>2</td>\n",
              "    </tr>\n",
              "  </tbody>\n",
              "</table>\n",
              "<p>1559410 rows × 10 columns</p>\n",
              "</div>\n",
              "      <button class=\"colab-df-convert\" onclick=\"convertToInteractive('df-0550a225-6999-48a3-89bb-c2895e359962')\"\n",
              "              title=\"Convert this dataframe to an interactive table.\"\n",
              "              style=\"display:none;\">\n",
              "        \n",
              "  <svg xmlns=\"http://www.w3.org/2000/svg\" height=\"24px\"viewBox=\"0 0 24 24\"\n",
              "       width=\"24px\">\n",
              "    <path d=\"M0 0h24v24H0V0z\" fill=\"none\"/>\n",
              "    <path d=\"M18.56 5.44l.94 2.06.94-2.06 2.06-.94-2.06-.94-.94-2.06-.94 2.06-2.06.94zm-11 1L8.5 8.5l.94-2.06 2.06-.94-2.06-.94L8.5 2.5l-.94 2.06-2.06.94zm10 10l.94 2.06.94-2.06 2.06-.94-2.06-.94-.94-2.06-.94 2.06-2.06.94z\"/><path d=\"M17.41 7.96l-1.37-1.37c-.4-.4-.92-.59-1.43-.59-.52 0-1.04.2-1.43.59L10.3 9.45l-7.72 7.72c-.78.78-.78 2.05 0 2.83L4 21.41c.39.39.9.59 1.41.59.51 0 1.02-.2 1.41-.59l7.78-7.78 2.81-2.81c.8-.78.8-2.07 0-2.86zM5.41 20L4 18.59l7.72-7.72 1.47 1.35L5.41 20z\"/>\n",
              "  </svg>\n",
              "      </button>\n",
              "      \n",
              "  <style>\n",
              "    .colab-df-container {\n",
              "      display:flex;\n",
              "      flex-wrap:wrap;\n",
              "      gap: 12px;\n",
              "    }\n",
              "\n",
              "    .colab-df-convert {\n",
              "      background-color: #E8F0FE;\n",
              "      border: none;\n",
              "      border-radius: 50%;\n",
              "      cursor: pointer;\n",
              "      display: none;\n",
              "      fill: #1967D2;\n",
              "      height: 32px;\n",
              "      padding: 0 0 0 0;\n",
              "      width: 32px;\n",
              "    }\n",
              "\n",
              "    .colab-df-convert:hover {\n",
              "      background-color: #E2EBFA;\n",
              "      box-shadow: 0px 1px 2px rgba(60, 64, 67, 0.3), 0px 1px 3px 1px rgba(60, 64, 67, 0.15);\n",
              "      fill: #174EA6;\n",
              "    }\n",
              "\n",
              "    [theme=dark] .colab-df-convert {\n",
              "      background-color: #3B4455;\n",
              "      fill: #D2E3FC;\n",
              "    }\n",
              "\n",
              "    [theme=dark] .colab-df-convert:hover {\n",
              "      background-color: #434B5C;\n",
              "      box-shadow: 0px 1px 3px 1px rgba(0, 0, 0, 0.15);\n",
              "      filter: drop-shadow(0px 1px 2px rgba(0, 0, 0, 0.3));\n",
              "      fill: #FFFFFF;\n",
              "    }\n",
              "  </style>\n",
              "\n",
              "      <script>\n",
              "        const buttonEl =\n",
              "          document.querySelector('#df-0550a225-6999-48a3-89bb-c2895e359962 button.colab-df-convert');\n",
              "        buttonEl.style.display =\n",
              "          google.colab.kernel.accessAllowed ? 'block' : 'none';\n",
              "\n",
              "        async function convertToInteractive(key) {\n",
              "          const element = document.querySelector('#df-0550a225-6999-48a3-89bb-c2895e359962');\n",
              "          const dataTable =\n",
              "            await google.colab.kernel.invokeFunction('convertToInteractive',\n",
              "                                                     [key], {});\n",
              "          if (!dataTable) return;\n",
              "\n",
              "          const docLinkHtml = 'Like what you see? Visit the ' +\n",
              "            '<a target=\"_blank\" href=https://colab.research.google.com/notebooks/data_table.ipynb>data table notebook</a>'\n",
              "            + ' to learn more about interactive tables.';\n",
              "          element.innerHTML = '';\n",
              "          dataTable['output_type'] = 'display_data';\n",
              "          await google.colab.output.renderOutput(dataTable, element);\n",
              "          const docLink = document.createElement('div');\n",
              "          docLink.innerHTML = docLinkHtml;\n",
              "          element.appendChild(docLink);\n",
              "        }\n",
              "      </script>\n",
              "    </div>\n",
              "  </div>\n",
              "  "
            ],
            "text/plain": [
              "         userid  slateid                                            history  \\\n",
              "0        U13740        1                               N45794 N19347 N31801   \n",
              "1        U91836        2  N31739 N6072 N63045 N43353 N8129 N1569 N17686 ...   \n",
              "2        U91836        2  N31739 N6072 N63045 N43353 N8129 N1569 N17686 ...   \n",
              "3        U91836        2  N31739 N6072 N63045 N43353 N8129 N1569 N17686 ...   \n",
              "4        U73700        3                                       N7563 N24233   \n",
              "...         ...      ...                                                ...   \n",
              "1559405  U44625   156964  N3164 N53854 N44649 N26398 N43983 N16516 N6373...   \n",
              "1559406  U44625   156964  N3164 N53854 N44649 N26398 N43983 N16516 N6373...   \n",
              "1559407  U44625   156964  N3164 N53854 N44649 N26398 N43983 N16516 N6373...   \n",
              "1559408  U44625   156964  N3164 N53854 N44649 N26398 N43983 N16516 N6373...   \n",
              "1559409  U64800   156965                                      N22997 N48742   \n",
              "\n",
              "                                               impressions  \\\n",
              "0                                                 N35729-0   \n",
              "1                               N39317-0 N20495-0 N42977-0   \n",
              "2                               N39317-0 N20495-0 N42977-0   \n",
              "3                               N39317-0 N20495-0 N42977-0   \n",
              "4        N23877-0 N49712-0 N64174-0 N46821-0 N48017-0 N...   \n",
              "...                                                    ...   \n",
              "1559405  N3663-0 N31147-0 N4107-0 N27515-0 N20495-0 N18...   \n",
              "1559406  N3663-0 N31147-0 N4107-0 N27515-0 N20495-0 N18...   \n",
              "1559407  N3663-0 N31147-0 N4107-0 N27515-0 N20495-0 N18...   \n",
              "1559408  N3663-0 N31147-0 N4107-0 N27515-0 N20495-0 N18...   \n",
              "1559409                                           N19661-0   \n",
              "\n",
              "                                    history_all_categories  \\\n",
              "0        tv sports tv news sports lifestyle movies news...   \n",
              "1        news news news finance travel news news news n...   \n",
              "2        news news news finance travel news news news n...   \n",
              "3        news news news finance travel news news news n...   \n",
              "4        lifestyle lifestyle news sports tv weather spo...   \n",
              "...                                                    ...   \n",
              "1559405  lifestyle weather news finance entertainment t...   \n",
              "1559406  lifestyle weather news finance entertainment t...   \n",
              "1559407  lifestyle weather news finance entertainment t...   \n",
              "1559408  lifestyle weather news finance entertainment t...   \n",
              "1559409                                          news news   \n",
              "\n",
              "                                 history_all_subcategories  \\\n",
              "0        tvnews baseball_mlb tvnews newscrime football_...   \n",
              "1        newscrime newsus newscrime markets travelnews ...   \n",
              "2        newscrime newsus newscrime markets travelnews ...   \n",
              "3        newscrime newsus newscrime markets travelnews ...   \n",
              "4        lifestylebuzz lifestylehomeandgarden newsus fo...   \n",
              "...                                                    ...   \n",
              "1559405  lifestylehomeandgarden weathertopstories newsw...   \n",
              "1559406  lifestylehomeandgarden weathertopstories newsw...   \n",
              "1559407  lifestylehomeandgarden weathertopstories newsw...   \n",
              "1559408  lifestylehomeandgarden weathertopstories newsw...   \n",
              "1559409                                newscrime newscrime   \n",
              "\n",
              "                                  history_all_fasttext_emb impression  click  \\\n",
              "0        0.02757345512509346,0.05293599143624306,-0.038...     N35729      0   \n",
              "1        0.023200372233986855,-0.028567129746079445,0.0...     N39317      0   \n",
              "2        0.023200372233986855,-0.028567129746079445,0.0...     N20495      0   \n",
              "3        0.023200372233986855,-0.028567129746079445,0.0...     N42977      0   \n",
              "4        -0.031641364097595215,0.028531450778245926,0.0...     N23877      0   \n",
              "...                                                    ...        ...    ...   \n",
              "1559405  0.010793088935315609,0.009016992524266243,-0.0...     N25561      0   \n",
              "1559406  0.010793088935315609,0.009016992524266243,-0.0...     N31556      0   \n",
              "1559407  0.010793088935315609,0.009016992524266243,-0.0...     N23508      0   \n",
              "1559408  0.010793088935315609,0.009016992524266243,-0.0...     N39317      0   \n",
              "1559409  0.0838380977511406,-0.12305797636508942,-0.093...     N19661      0   \n",
              "\n",
              "         history_size  \n",
              "0                   3  \n",
              "1                  54  \n",
              "2                  54  \n",
              "3                  54  \n",
              "4                   2  \n",
              "...               ...  \n",
              "1559405            20  \n",
              "1559406            20  \n",
              "1559407            20  \n",
              "1559408            20  \n",
              "1559409             2  \n",
              "\n",
              "[1559410 rows x 10 columns]"
            ]
          },
          "metadata": {},
          "output_type": "display_data"
        }
      ],
      "source": [
        "prepare_dataset(COLD_START_BEHAVIORS_TRAIN, TRAIN_DF_OUTPUT_PATH, ft_histories_user_vectors_train)\n",
        "train_df = pd.read_csv(TRAIN_DF_OUTPUT_PATH, sep=\"\\t\")\n",
        "display(train_df)"
      ],
      "id": "0ce3392f-307a-4ab6-86fa-8b5a3c4e1b7d"
    },
    {
      "cell_type": "code",
      "execution_count": null,
      "metadata": {
        "colab": {
          "base_uri": "https://localhost:8080/",
          "height": 624
        },
        "id": "f745755a-1c98-4043-ab34-85e8067490ff",
        "outputId": "3dfacf4a-b031-402d-b2ae-bd40283ed48f"
      },
      "outputs": [
        {
          "data": {
            "text/html": [
              "\n",
              "  <div id=\"df-a54c40a8-8bfc-423a-9fee-f71d94c44a25\">\n",
              "    <div class=\"colab-df-container\">\n",
              "      <div>\n",
              "<style scoped>\n",
              "    .dataframe tbody tr th:only-of-type {\n",
              "        vertical-align: middle;\n",
              "    }\n",
              "\n",
              "    .dataframe tbody tr th {\n",
              "        vertical-align: top;\n",
              "    }\n",
              "\n",
              "    .dataframe thead th {\n",
              "        text-align: right;\n",
              "    }\n",
              "</style>\n",
              "<table border=\"1\" class=\"dataframe\">\n",
              "  <thead>\n",
              "    <tr style=\"text-align: right;\">\n",
              "      <th></th>\n",
              "      <th>userid</th>\n",
              "      <th>slateid</th>\n",
              "      <th>history</th>\n",
              "      <th>impressions</th>\n",
              "      <th>history_all_categories</th>\n",
              "      <th>history_all_subcategories</th>\n",
              "      <th>history_all_fasttext_emb</th>\n",
              "      <th>impression</th>\n",
              "      <th>click</th>\n",
              "      <th>history_size</th>\n",
              "    </tr>\n",
              "  </thead>\n",
              "  <tbody>\n",
              "    <tr>\n",
              "      <th>0</th>\n",
              "      <td>U80234</td>\n",
              "      <td>1</td>\n",
              "      <td>N46039 N53234 N6616 N63573 N38895</td>\n",
              "      <td>N50775-0</td>\n",
              "      <td>tv news tv news finance autos tv movies entert...</td>\n",
              "      <td>tvnews newsus tv-celebrity newsus finance-comp...</td>\n",
              "      <td>0.05083860829472542,0.03707544133067131,-0.041...</td>\n",
              "      <td>N50775</td>\n",
              "      <td>0</td>\n",
              "      <td>5</td>\n",
              "    </tr>\n",
              "    <tr>\n",
              "      <th>1</th>\n",
              "      <td>U60458</td>\n",
              "      <td>2</td>\n",
              "      <td>N58715 N33438 N54827 N34775</td>\n",
              "      <td>N36779-0</td>\n",
              "      <td>news travel finance news news finance music ne...</td>\n",
              "      <td>newsus travelnews finance-companies newsscienc...</td>\n",
              "      <td>0.04019559919834137,-0.03583583980798721,0.005...</td>\n",
              "      <td>N36779</td>\n",
              "      <td>0</td>\n",
              "      <td>4</td>\n",
              "    </tr>\n",
              "    <tr>\n",
              "      <th>2</th>\n",
              "      <td>U44190</td>\n",
              "      <td>3</td>\n",
              "      <td>N1150 N16233 N53033</td>\n",
              "      <td>N36779-0 N50775-0</td>\n",
              "      <td>sports news tv news lifestyle sports news ente...</td>\n",
              "      <td>football_nfl newscrime tvnews newsus shop-book...</td>\n",
              "      <td>0.016869867220520973,0.07208146154880524,-0.07...</td>\n",
              "      <td>N36779</td>\n",
              "      <td>0</td>\n",
              "      <td>3</td>\n",
              "    </tr>\n",
              "    <tr>\n",
              "      <th>3</th>\n",
              "      <td>U44190</td>\n",
              "      <td>3</td>\n",
              "      <td>N1150 N16233 N53033</td>\n",
              "      <td>N36779-0 N50775-0</td>\n",
              "      <td>sports news tv news lifestyle sports news ente...</td>\n",
              "      <td>football_nfl newscrime tvnews newsus shop-book...</td>\n",
              "      <td>0.016869867220520973,0.07208146154880524,-0.07...</td>\n",
              "      <td>N50775</td>\n",
              "      <td>0</td>\n",
              "      <td>3</td>\n",
              "    </tr>\n",
              "    <tr>\n",
              "      <th>4</th>\n",
              "      <td>U87380</td>\n",
              "      <td>4</td>\n",
              "      <td>N49153 N58518 N7649 N45794 N53033 N29361 N28247</td>\n",
              "      <td>N45057-0</td>\n",
              "      <td>travel news sports sports travel news tv news ...</td>\n",
              "      <td>traveltripideas newsus baseball_mlb football_n...</td>\n",
              "      <td>-0.027459757402539253,0.055927056819200516,0.0...</td>\n",
              "      <td>N45057</td>\n",
              "      <td>0</td>\n",
              "      <td>7</td>\n",
              "    </tr>\n",
              "    <tr>\n",
              "      <th>...</th>\n",
              "      <td>...</td>\n",
              "      <td>...</td>\n",
              "      <td>...</td>\n",
              "      <td>...</td>\n",
              "      <td>...</td>\n",
              "      <td>...</td>\n",
              "      <td>...</td>\n",
              "      <td>...</td>\n",
              "      <td>...</td>\n",
              "      <td>...</td>\n",
              "    </tr>\n",
              "    <tr>\n",
              "      <th>402722</th>\n",
              "      <td>U16799</td>\n",
              "      <td>73150</td>\n",
              "      <td></td>\n",
              "      <td>N45057-0 N16120-0 N7993-0 N5051-0 N50775-0 N33...</td>\n",
              "      <td>tv tv tv music finance movies</td>\n",
              "      <td>tvnews tv-celebrity tv-celebrity musicnews per...</td>\n",
              "      <td>0.035440344363451004,-0.0001947104901773855,-0...</td>\n",
              "      <td>N33397</td>\n",
              "      <td>0</td>\n",
              "      <td>0</td>\n",
              "    </tr>\n",
              "    <tr>\n",
              "      <th>402723</th>\n",
              "      <td>U16799</td>\n",
              "      <td>73150</td>\n",
              "      <td></td>\n",
              "      <td>N45057-0 N16120-0 N7993-0 N5051-0 N50775-0 N33...</td>\n",
              "      <td>tv tv tv music finance movies</td>\n",
              "      <td>tvnews tv-celebrity tv-celebrity musicnews per...</td>\n",
              "      <td>0.035440344363451004,-0.0001947104901773855,-0...</td>\n",
              "      <td>N26572</td>\n",
              "      <td>0</td>\n",
              "      <td>0</td>\n",
              "    </tr>\n",
              "    <tr>\n",
              "      <th>402724</th>\n",
              "      <td>U16799</td>\n",
              "      <td>73150</td>\n",
              "      <td></td>\n",
              "      <td>N45057-0 N16120-0 N7993-0 N5051-0 N50775-0 N33...</td>\n",
              "      <td>tv tv tv music finance movies</td>\n",
              "      <td>tvnews tv-celebrity tv-celebrity musicnews per...</td>\n",
              "      <td>0.035440344363451004,-0.0001947104901773855,-0...</td>\n",
              "      <td>N17513</td>\n",
              "      <td>0</td>\n",
              "      <td>0</td>\n",
              "    </tr>\n",
              "    <tr>\n",
              "      <th>402725</th>\n",
              "      <td>U8786</td>\n",
              "      <td>73151</td>\n",
              "      <td></td>\n",
              "      <td>N36779-0</td>\n",
              "      <td>lifestyle lifestyle lifestyle autos health hea...</td>\n",
              "      <td>lifestyleroyals lifestyleroyals lifestyleroyal...</td>\n",
              "      <td>0.027152134105563164,0.08127870410680771,-0.13...</td>\n",
              "      <td>N36779</td>\n",
              "      <td>0</td>\n",
              "      <td>0</td>\n",
              "    </tr>\n",
              "    <tr>\n",
              "      <th>402726</th>\n",
              "      <td>U68182</td>\n",
              "      <td>73152</td>\n",
              "      <td>N53568 N43123 N58235 N50069 N23653 N12003 N477...</td>\n",
              "      <td>N50775-0</td>\n",
              "      <td>sports news sports sports health news health l...</td>\n",
              "      <td>football_nfl newsworld football_nfl football_n...</td>\n",
              "      <td>0.022367091849446297,0.035040177404880524,-0.0...</td>\n",
              "      <td>N50775</td>\n",
              "      <td>0</td>\n",
              "      <td>10</td>\n",
              "    </tr>\n",
              "  </tbody>\n",
              "</table>\n",
              "<p>402727 rows × 10 columns</p>\n",
              "</div>\n",
              "      <button class=\"colab-df-convert\" onclick=\"convertToInteractive('df-a54c40a8-8bfc-423a-9fee-f71d94c44a25')\"\n",
              "              title=\"Convert this dataframe to an interactive table.\"\n",
              "              style=\"display:none;\">\n",
              "        \n",
              "  <svg xmlns=\"http://www.w3.org/2000/svg\" height=\"24px\"viewBox=\"0 0 24 24\"\n",
              "       width=\"24px\">\n",
              "    <path d=\"M0 0h24v24H0V0z\" fill=\"none\"/>\n",
              "    <path d=\"M18.56 5.44l.94 2.06.94-2.06 2.06-.94-2.06-.94-.94-2.06-.94 2.06-2.06.94zm-11 1L8.5 8.5l.94-2.06 2.06-.94-2.06-.94L8.5 2.5l-.94 2.06-2.06.94zm10 10l.94 2.06.94-2.06 2.06-.94-2.06-.94-.94-2.06-.94 2.06-2.06.94z\"/><path d=\"M17.41 7.96l-1.37-1.37c-.4-.4-.92-.59-1.43-.59-.52 0-1.04.2-1.43.59L10.3 9.45l-7.72 7.72c-.78.78-.78 2.05 0 2.83L4 21.41c.39.39.9.59 1.41.59.51 0 1.02-.2 1.41-.59l7.78-7.78 2.81-2.81c.8-.78.8-2.07 0-2.86zM5.41 20L4 18.59l7.72-7.72 1.47 1.35L5.41 20z\"/>\n",
              "  </svg>\n",
              "      </button>\n",
              "      \n",
              "  <style>\n",
              "    .colab-df-container {\n",
              "      display:flex;\n",
              "      flex-wrap:wrap;\n",
              "      gap: 12px;\n",
              "    }\n",
              "\n",
              "    .colab-df-convert {\n",
              "      background-color: #E8F0FE;\n",
              "      border: none;\n",
              "      border-radius: 50%;\n",
              "      cursor: pointer;\n",
              "      display: none;\n",
              "      fill: #1967D2;\n",
              "      height: 32px;\n",
              "      padding: 0 0 0 0;\n",
              "      width: 32px;\n",
              "    }\n",
              "\n",
              "    .colab-df-convert:hover {\n",
              "      background-color: #E2EBFA;\n",
              "      box-shadow: 0px 1px 2px rgba(60, 64, 67, 0.3), 0px 1px 3px 1px rgba(60, 64, 67, 0.15);\n",
              "      fill: #174EA6;\n",
              "    }\n",
              "\n",
              "    [theme=dark] .colab-df-convert {\n",
              "      background-color: #3B4455;\n",
              "      fill: #D2E3FC;\n",
              "    }\n",
              "\n",
              "    [theme=dark] .colab-df-convert:hover {\n",
              "      background-color: #434B5C;\n",
              "      box-shadow: 0px 1px 3px 1px rgba(0, 0, 0, 0.15);\n",
              "      filter: drop-shadow(0px 1px 2px rgba(0, 0, 0, 0.3));\n",
              "      fill: #FFFFFF;\n",
              "    }\n",
              "  </style>\n",
              "\n",
              "      <script>\n",
              "        const buttonEl =\n",
              "          document.querySelector('#df-a54c40a8-8bfc-423a-9fee-f71d94c44a25 button.colab-df-convert');\n",
              "        buttonEl.style.display =\n",
              "          google.colab.kernel.accessAllowed ? 'block' : 'none';\n",
              "\n",
              "        async function convertToInteractive(key) {\n",
              "          const element = document.querySelector('#df-a54c40a8-8bfc-423a-9fee-f71d94c44a25');\n",
              "          const dataTable =\n",
              "            await google.colab.kernel.invokeFunction('convertToInteractive',\n",
              "                                                     [key], {});\n",
              "          if (!dataTable) return;\n",
              "\n",
              "          const docLinkHtml = 'Like what you see? Visit the ' +\n",
              "            '<a target=\"_blank\" href=https://colab.research.google.com/notebooks/data_table.ipynb>data table notebook</a>'\n",
              "            + ' to learn more about interactive tables.';\n",
              "          element.innerHTML = '';\n",
              "          dataTable['output_type'] = 'display_data';\n",
              "          await google.colab.output.renderOutput(dataTable, element);\n",
              "          const docLink = document.createElement('div');\n",
              "          docLink.innerHTML = docLinkHtml;\n",
              "          element.appendChild(docLink);\n",
              "        }\n",
              "      </script>\n",
              "    </div>\n",
              "  </div>\n",
              "  "
            ],
            "text/plain": [
              "        userid  slateid                                            history  \\\n",
              "0       U80234        1                  N46039 N53234 N6616 N63573 N38895   \n",
              "1       U60458        2                        N58715 N33438 N54827 N34775   \n",
              "2       U44190        3                                N1150 N16233 N53033   \n",
              "3       U44190        3                                N1150 N16233 N53033   \n",
              "4       U87380        4    N49153 N58518 N7649 N45794 N53033 N29361 N28247   \n",
              "...        ...      ...                                                ...   \n",
              "402722  U16799    73150                                                      \n",
              "402723  U16799    73150                                                      \n",
              "402724  U16799    73150                                                      \n",
              "402725   U8786    73151                                                      \n",
              "402726  U68182    73152  N53568 N43123 N58235 N50069 N23653 N12003 N477...   \n",
              "\n",
              "                                              impressions  \\\n",
              "0                                                N50775-0   \n",
              "1                                                N36779-0   \n",
              "2                                       N36779-0 N50775-0   \n",
              "3                                       N36779-0 N50775-0   \n",
              "4                                                N45057-0   \n",
              "...                                                   ...   \n",
              "402722  N45057-0 N16120-0 N7993-0 N5051-0 N50775-0 N33...   \n",
              "402723  N45057-0 N16120-0 N7993-0 N5051-0 N50775-0 N33...   \n",
              "402724  N45057-0 N16120-0 N7993-0 N5051-0 N50775-0 N33...   \n",
              "402725                                           N36779-0   \n",
              "402726                                           N50775-0   \n",
              "\n",
              "                                   history_all_categories  \\\n",
              "0       tv news tv news finance autos tv movies entert...   \n",
              "1       news travel finance news news finance music ne...   \n",
              "2       sports news tv news lifestyle sports news ente...   \n",
              "3       sports news tv news lifestyle sports news ente...   \n",
              "4       travel news sports sports travel news tv news ...   \n",
              "...                                                   ...   \n",
              "402722                      tv tv tv music finance movies   \n",
              "402723                      tv tv tv music finance movies   \n",
              "402724                      tv tv tv music finance movies   \n",
              "402725  lifestyle lifestyle lifestyle autos health hea...   \n",
              "402726  sports news sports sports health news health l...   \n",
              "\n",
              "                                history_all_subcategories  \\\n",
              "0       tvnews newsus tv-celebrity newsus finance-comp...   \n",
              "1       newsus travelnews finance-companies newsscienc...   \n",
              "2       football_nfl newscrime tvnews newsus shop-book...   \n",
              "3       football_nfl newscrime tvnews newsus shop-book...   \n",
              "4       traveltripideas newsus baseball_mlb football_n...   \n",
              "...                                                   ...   \n",
              "402722  tvnews tv-celebrity tv-celebrity musicnews per...   \n",
              "402723  tvnews tv-celebrity tv-celebrity musicnews per...   \n",
              "402724  tvnews tv-celebrity tv-celebrity musicnews per...   \n",
              "402725  lifestyleroyals lifestyleroyals lifestyleroyal...   \n",
              "402726  football_nfl newsworld football_nfl football_n...   \n",
              "\n",
              "                                 history_all_fasttext_emb impression  click  \\\n",
              "0       0.05083860829472542,0.03707544133067131,-0.041...     N50775      0   \n",
              "1       0.04019559919834137,-0.03583583980798721,0.005...     N36779      0   \n",
              "2       0.016869867220520973,0.07208146154880524,-0.07...     N36779      0   \n",
              "3       0.016869867220520973,0.07208146154880524,-0.07...     N50775      0   \n",
              "4       -0.027459757402539253,0.055927056819200516,0.0...     N45057      0   \n",
              "...                                                   ...        ...    ...   \n",
              "402722  0.035440344363451004,-0.0001947104901773855,-0...     N33397      0   \n",
              "402723  0.035440344363451004,-0.0001947104901773855,-0...     N26572      0   \n",
              "402724  0.035440344363451004,-0.0001947104901773855,-0...     N17513      0   \n",
              "402725  0.027152134105563164,0.08127870410680771,-0.13...     N36779      0   \n",
              "402726  0.022367091849446297,0.035040177404880524,-0.0...     N50775      0   \n",
              "\n",
              "        history_size  \n",
              "0                  5  \n",
              "1                  4  \n",
              "2                  3  \n",
              "3                  3  \n",
              "4                  7  \n",
              "...              ...  \n",
              "402722             0  \n",
              "402723             0  \n",
              "402724             0  \n",
              "402725             0  \n",
              "402726            10  \n",
              "\n",
              "[402727 rows x 10 columns]"
            ]
          },
          "metadata": {},
          "output_type": "display_data"
        }
      ],
      "source": [
        "prepare_dataset(COLD_START_BEHAVIORS_TEST, TEST_DF_OUTPUT_PATH, ft_histories_user_vectors_test)\n",
        "test_df = pd.read_csv(TEST_DF_OUTPUT_PATH, sep=\"\\t\")\n",
        "display(test_df)"
      ],
      "id": "f745755a-1c98-4043-ab34-85e8067490ff"
    },
    {
      "cell_type": "code",
      "execution_count": null,
      "metadata": {
        "id": "156085e9-9149-4cdd-9fcd-5137cdd678f9"
      },
      "outputs": [],
      "source": [
        "def str_user_embedding_to_vec(x, to_tensor=True):\n",
        "    \"\"\"Following functinality transforms user embedding in the following text format `1.0, 1.0, 2.0....` into tensors\"\"\"\n",
        "    x[\"user_embedding\"] = tf.strings.to_number(\n",
        "        tf.strings.split(x[\"history_all_fasttext_emb\"], sep=\",\"), tf.float32\n",
        "    )\n",
        "\n",
        "    if to_tensor:\n",
        "        x[\"user_embedding\"] = x[\"user_embedding\"].to_tensor()\n",
        "\n",
        "    return x"
      ],
      "id": "156085e9-9149-4cdd-9fcd-5137cdd678f9"
    },
    {
      "cell_type": "code",
      "execution_count": null,
      "metadata": {
        "colab": {
          "base_uri": "https://localhost:8080/"
        },
        "id": "db5281f8-4c18-4806-b35d-8e91e1b0f3b6",
        "outputId": "5c086b80-820e-4939-dce9-a7d0e8dd44f9"
      },
      "outputs": [
        {
          "name": "stderr",
          "output_type": "stream",
          "text": [
            "/usr/local/lib/python3.7/dist-packages/tensorflow/python/data/ops/structured_function.py:265: UserWarning: Even though the `tf.config.experimental_run_functions_eagerly` option is set, this option does not apply to tf.data functions. To force eager execution of tf.data functions, please use `tf.data.experimental.enable_debug_mode()`.\n",
            "  \"Even though the `tf.config.experimental_run_functions_eagerly` \"\n"
          ]
        }
      ],
      "source": [
        "# create tensorflow training dataset from preparaded csv files\n",
        "# note: \"user_embedding\" feature will be used in TASK 2\n",
        "train_data = tf.data.experimental.make_csv_dataset(\n",
        "    TRAIN_DF_OUTPUT_PATH,\n",
        "    batch_size=BATCH_SIZE,\n",
        "    label_name='click',\n",
        "    field_delim='\\t',\n",
        "    num_epochs=1,\n",
        "    shuffle=False\n",
        ").map(lambda x, y: (str_user_embedding_to_vec(x), y))\n",
        "\n",
        "train_data_cached = train_data.cache()"
      ],
      "id": "db5281f8-4c18-4806-b35d-8e91e1b0f3b6"
    },
    {
      "cell_type": "code",
      "execution_count": null,
      "metadata": {
        "id": "3c231567-4f9a-4919-90e0-de964589b437"
      },
      "outputs": [],
      "source": [
        "# compute how many mini-batched are within one epoch\n",
        "# information is used later during training as training data are read infinitely\n",
        "BATCHES_PER_EPOCH = len(list(train_data_cached))"
      ],
      "id": "3c231567-4f9a-4919-90e0-de964589b437"
    },
    {
      "cell_type": "code",
      "execution_count": null,
      "metadata": {
        "colab": {
          "base_uri": "https://localhost:8080/"
        },
        "id": "ef2efbdb-d062-4dbb-8af6-4379af670aef",
        "outputId": "45d54417-ef9f-4ef8-b4dd-aadd1a99be9c"
      },
      "outputs": [
        {
          "name": "stderr",
          "output_type": "stream",
          "text": [
            "/usr/local/lib/python3.7/dist-packages/tensorflow/python/data/ops/structured_function.py:265: UserWarning: Even though the `tf.config.experimental_run_functions_eagerly` option is set, this option does not apply to tf.data functions. To force eager execution of tf.data functions, please use `tf.data.experimental.enable_debug_mode()`.\n",
            "  \"Even though the `tf.config.experimental_run_functions_eagerly` \"\n"
          ]
        }
      ],
      "source": [
        "# create tensorflow testing dataset from preparaded csv files\n",
        "test_data = tf.data.experimental.make_csv_dataset(\n",
        "    TEST_DF_OUTPUT_PATH,\n",
        "    batch_size=BATCH_SIZE,\n",
        "    label_name='click',\n",
        "    field_delim='\\t',\n",
        "    num_epochs=1,\n",
        "    shuffle=False\n",
        ").map(lambda x, y: (str_user_embedding_to_vec(x), y))\n",
        "\n",
        "test_data_cached = test_data.cache()"
      ],
      "id": "ef2efbdb-d062-4dbb-8af6-4379af670aef"
    },
    {
      "cell_type": "markdown",
      "metadata": {
        "id": "d62f66fb-8e98-4d89-873a-0cff433719b3"
      },
      "source": [
        "### Create embeddings for string features\n",
        " - DCN transforms all input data into embeddings - in order to do that we need to tranform text inputs into integers which can be then transformed into embedding \n",
        " - We will use `tf.keras.layers.experimental.preprocessing.TextVectorization` in newer version of tf one might need to use `tf.keras.layers.TextVectorization` instead"
      ],
      "id": "d62f66fb-8e98-4d89-873a-0cff433719b3"
    },
    {
      "cell_type": "code",
      "execution_count": null,
      "metadata": {
        "id": "9cdd051b-4fa2-45a8-a9d2-2291161067e0"
      },
      "outputs": [],
      "source": [
        "NEWS_IDS = news_train.newsid.tolist()"
      ],
      "id": "9cdd051b-4fa2-45a8-a9d2-2291161067e0"
    },
    {
      "cell_type": "code",
      "execution_count": null,
      "metadata": {
        "id": "b45f3642-07a8-4558-8601-6f282884a8e8"
      },
      "outputs": [],
      "source": [
        "history_vectorizer = tf.keras.layers.experimental.preprocessing.TextVectorization(\n",
        "    output_mode=\"int\", standardize=None, vocabulary=NEWS_IDS\n",
        ")"
      ],
      "id": "b45f3642-07a8-4558-8601-6f282884a8e8"
    },
    {
      "cell_type": "markdown",
      "metadata": {
        "id": "8c8660df-4d75-4463-aba2-c492257d20b1"
      },
      "source": [
        "### Create weighted train dataset\n",
        " - Dataset suffers from class unbalance as there are not many clicks available\n",
        " - We will try to mitigate class unbalance via [class_weight](https://www.tensorflow.org/tutorials/structured_data/imbalanced_data#class_weights) argument of `fit` methods - which reweights the loss "
      ],
      "id": "8c8660df-4d75-4463-aba2-c492257d20b1"
    },
    {
      "cell_type": "code",
      "execution_count": null,
      "metadata": {
        "colab": {
          "base_uri": "https://localhost:8080/"
        },
        "id": "41464a79-d7bd-478c-b81e-87c440d66798",
        "outputId": "11d8fabf-3a1e-484b-ec7a-561ea2201453"
      },
      "outputs": [
        {
          "name": "stderr",
          "output_type": "stream",
          "text": [
            "/usr/local/lib/python3.7/dist-packages/tensorflow/python/data/ops/structured_function.py:265: UserWarning: Even though the `tf.config.experimental_run_functions_eagerly` option is set, this option does not apply to tf.data functions. To force eager execution of tf.data functions, please use `tf.data.experimental.enable_debug_mode()`.\n",
            "  \"Even though the `tf.config.experimental_run_functions_eagerly` \"\n"
          ]
        }
      ],
      "source": [
        "labels, labels_counts = train_label_counts = np.unique(\n",
        "    np.array(\n",
        "        list(tfds.as_numpy(train_data_cached.map(lambda x, y: y).unbatch()))\n",
        "    ),\n",
        "    return_counts=True\n",
        ")"
      ],
      "id": "41464a79-d7bd-478c-b81e-87c440d66798"
    },
    {
      "cell_type": "code",
      "execution_count": null,
      "metadata": {
        "colab": {
          "base_uri": "https://localhost:8080/"
        },
        "id": "6e090599-9379-4a9d-a87a-6454880fe70a",
        "outputId": "1bbf1395-f38e-4be7-b809-6910b72d9689"
      },
      "outputs": [
        {
          "data": {
            "text/plain": [
              "array([0, 1], dtype=int32)"
            ]
          },
          "execution_count": 19,
          "metadata": {},
          "output_type": "execute_result"
        }
      ],
      "source": [
        "labels"
      ],
      "id": "6e090599-9379-4a9d-a87a-6454880fe70a"
    },
    {
      "cell_type": "code",
      "execution_count": null,
      "metadata": {
        "colab": {
          "base_uri": "https://localhost:8080/"
        },
        "id": "d5740a0c-cb70-4f56-83c8-2c5f0f74e8f8",
        "outputId": "e5320dae-d491-438e-ecf5-da86653299bf"
      },
      "outputs": [
        {
          "data": {
            "text/plain": [
              "array([1491348,   68062])"
            ]
          },
          "execution_count": 20,
          "metadata": {},
          "output_type": "execute_result"
        }
      ],
      "source": [
        "labels_counts"
      ],
      "id": "d5740a0c-cb70-4f56-83c8-2c5f0f74e8f8"
    },
    {
      "cell_type": "code",
      "execution_count": null,
      "metadata": {
        "id": "174bcbe1-bde3-4434-a170-619b1b42cbcf"
      },
      "outputs": [],
      "source": [
        "label_weights = {\n",
        "    l: (1 / l_count) * (labels_counts.sum() / 2.0)\n",
        "    for l, l_count in zip(labels, labels_counts)\n",
        "}"
      ],
      "id": "174bcbe1-bde3-4434-a170-619b1b42cbcf"
    },
    {
      "cell_type": "code",
      "execution_count": null,
      "metadata": {
        "colab": {
          "base_uri": "https://localhost:8080/"
        },
        "id": "44f5994e-ec27-4ff8-8c12-5b29464aab69",
        "outputId": "a6a8d8d5-01f6-4db2-cf06-e86f86b05fe6"
      },
      "outputs": [
        {
          "data": {
            "text/plain": [
              "{0: 0.522818953054552, 1: 11.455805001322323}"
            ]
          },
          "execution_count": 22,
          "metadata": {},
          "output_type": "execute_result"
        }
      ],
      "source": [
        "label_weights"
      ],
      "id": "44f5994e-ec27-4ff8-8c12-5b29464aab69"
    },
    {
      "cell_type": "markdown",
      "metadata": {
        "id": "2ac5f67b-7a0c-4d27-b746-fb1f42cfb8e9"
      },
      "source": [
        "## Prepare evaluation data\n",
        " - We will evaluate model performance on single item level and on slate level\n",
        " - AUC metric will be used for item level evaluation and all data from test dataset will be considered\n",
        " - Novelty metric will be used for slate level evaluation and only sample of users and items will be considered, if we were to consider all items and users inference would take too much time\n",
        "  - Items are sampled with respect to their subcategory so they are evenly represented\n",
        "  - Users are sampled with respect to their history size so ther are evenly represented"
      ],
      "id": "2ac5f67b-7a0c-4d27-b746-fb1f42cfb8e9"
    },
    {
      "cell_type": "code",
      "execution_count": null,
      "metadata": {
        "colab": {
          "base_uri": "https://localhost:8080/"
        },
        "id": "7bddfe6d-9527-45f0-98c7-fb8dd9a84be3",
        "outputId": "fe03126c-3223-4e60-db1d-d9274d8bd87f"
      },
      "outputs": [
        {
          "data": {
            "text/plain": [
              "(365, 11)"
            ]
          },
          "execution_count": 23,
          "metadata": {},
          "output_type": "execute_result"
        }
      ],
      "source": [
        "sampled_users = sample_users(test_df, RANDOM_SEED)\n",
        "sampled_users.shape"
      ],
      "id": "7bddfe6d-9527-45f0-98c7-fb8dd9a84be3"
    },
    {
      "cell_type": "code",
      "execution_count": null,
      "metadata": {
        "colab": {
          "base_uri": "https://localhost:8080/"
        },
        "id": "5b8e959a-c738-4f6c-b755-aacf6fe69807",
        "outputId": "729d4d01-b0a4-48f9-a4c3-4ca9465a023c"
      },
      "outputs": [
        {
          "data": {
            "text/plain": [
              "1576"
            ]
          },
          "execution_count": 24,
          "metadata": {},
          "output_type": "execute_result"
        }
      ],
      "source": [
        "sampled_items = sample_items(news_train, RANDOM_SEED)\n",
        "len(sampled_items)"
      ],
      "id": "5b8e959a-c738-4f6c-b755-aacf6fe69807"
    },
    {
      "cell_type": "code",
      "execution_count": null,
      "metadata": {
        "id": "2c6ddf00-3cfb-467a-a5e9-b252a599f33c"
      },
      "outputs": [],
      "source": [
        "def get_user_prediction(\n",
        "    model, df_row, items, per_user_predicted_items=20, batch_size=BATCH_SIZE\n",
        "):\n",
        "    u_impressions = (\n",
        "        df_row[\n",
        "            [\n",
        "                \"history_all_categories\",\n",
        "                \"history_all_subcategories\",\n",
        "                \"history\",\n",
        "                \"history_all_fasttext_emb\",\n",
        "            ]\n",
        "        ]\n",
        "        .to_frame()\n",
        "        .T.assign(impression=lambda _: [sampled_items])\n",
        "        .explode(\"impression\")\n",
        "    )\n",
        "    ds = (\n",
        "        tf.data.Dataset.from_tensor_slices(dict(u_impressions))\n",
        "        .map(lambda x: str_user_embedding_to_vec(x, False))\n",
        "        .batch(batch_size)\n",
        "    )\n",
        "    y_hat = model.predict(ds)\n",
        "\n",
        "    max_ind = np.argpartition(y_hat[:, 0], -per_user_predicted_items)[\n",
        "        -per_user_predicted_items:\n",
        "    ]\n",
        "\n",
        "    return max_ind"
      ],
      "id": "2c6ddf00-3cfb-467a-a5e9-b252a599f33c"
    },
    {
      "cell_type": "markdown",
      "metadata": {
        "id": "e96b6d75-968b-4bf9-973f-42d3d5160733"
      },
      "source": [
        "### Define DCN model"
      ],
      "id": "e96b6d75-968b-4bf9-973f-42d3d5160733"
    },
    {
      "cell_type": "code",
      "execution_count": null,
      "metadata": {
        "id": "fbeab80f-853a-4d09-95b7-ab2bd0820442"
      },
      "outputs": [],
      "source": [
        "class DCN(tfrs.Model):\n",
        "    \"\"\"Implementation of stacked DCN architecture\"\"\"\n",
        "    def __init__(\n",
        "        self,\n",
        "        features,\n",
        "        cross_layers=1,\n",
        "        deep_layers=[128, 64],\n",
        "        entity_emb_size=64,\n",
        "        cat_emb_size=8,\n",
        "        subcat_emb_size=16,\n",
        "        projection_dim=None,\n",
        "        normalization=None,\n",
        "        **model_kwargs,\n",
        "    ):\n",
        "        super().__init__()\n",
        "\n",
        "        self.model_kwargs = deepcopy(model_kwargs)\n",
        "\n",
        "        entity_id_embedder = tf.keras.layers.Embedding(\n",
        "            history_vectorizer.vocabulary_size(), entity_emb_size\n",
        "        )\n",
        "\n",
        "        feature_fn = {\n",
        "            \"impression\": tf.keras.Sequential(\n",
        "                [\n",
        "                    tf.keras.layers.InputLayer(input_shape=(1,), dtype=tf.string),\n",
        "                    history_vectorizer,\n",
        "                    entity_id_embedder,\n",
        "                    tf.keras.layers.Reshape([entity_emb_size]),\n",
        "                ]\n",
        "            ),\n",
        "            \"history\": tf.keras.Sequential(\n",
        "                [\n",
        "                    tf.keras.layers.InputLayer(input_shape=(1,), dtype=tf.string),\n",
        "                    history_vectorizer,\n",
        "                    entity_id_embedder,\n",
        "                    tf.keras.layers.GlobalAveragePooling1D(),\n",
        "                ]\n",
        "            )\n",
        "        }\n",
        "\n",
        "        self._features = features\n",
        "        self._feature_fn = {key: feature_fn[key] for key in features}\n",
        "        self._cross_layers = [\n",
        "            tfrs.layers.dcn.Cross(projection_dim=projection_dim)\n",
        "            for _ in range(cross_layers)\n",
        "        ]\n",
        "\n",
        "        normalization_cls = None\n",
        "        if normalization == \"layer\":\n",
        "            normalization_cls = tf.keras.layers.LayerNormalization\n",
        "        elif normalization == \"batch\":\n",
        "            normalization_cls = tf.keras.layers.BatchNormalization\n",
        "        elif normalization == \"no_normalization\":\n",
        "            pass\n",
        "        elif normalization:\n",
        "            raise ValueError(f\"Unknown normalization: '{normalization}'\")\n",
        "\n",
        "        self._cross_layers_normalizations = (\n",
        "            [normalization_cls() for _ in range(cross_layers)]\n",
        "            if normalization_cls\n",
        "            else []\n",
        "        )\n",
        "        self._deep_layers = [\n",
        "            tf.keras.layers.Dense(layer_size, activation=\"relu\")\n",
        "            for layer_size in deep_layers\n",
        "        ]\n",
        "        self._deep_layers_normalizations = (\n",
        "            [normalization_cls() for _ in deep_layers] if normalization_cls else []\n",
        "        )\n",
        "\n",
        "        self._sigmoid = tf.keras.layers.Dense(1, activation=\"sigmoid\")\n",
        "\n",
        "        self.task = tfrs.tasks.Ranking(\n",
        "            loss=tf.keras.losses.BinaryCrossentropy(),\n",
        "            metrics=[\n",
        "                tf.keras.metrics.Precision(name=\"precision\"),\n",
        "                tf.keras.metrics.Recall(name=\"recall\"),\n",
        "                tf.keras.metrics.AUC(name=\"auc\", curve=\"PR\"),\n",
        "                tf.keras.metrics.TruePositives(name=\"TP\"),\n",
        "                tf.keras.metrics.TrueNegatives(name=\"TN\"),\n",
        "                tf.keras.metrics.FalsePositives(name=\"FP\"),\n",
        "                tf.keras.metrics.FalseNegatives(name=\"FN\"),\n",
        "            ],\n",
        "        )\n",
        "\n",
        "    def call(self, data, training=None):\n",
        "        embds = [\n",
        "            self._feature_fn[feature_name](data[feature_name])\n",
        "            for feature_name in self._features\n",
        "        ]\n",
        "\n",
        "        x0 = tf.concat(embds, axis=1)\n",
        "        x = x0\n",
        "\n",
        "        for layer, normalization in zip_longest(\n",
        "            self._cross_layers, self._cross_layers_normalizations\n",
        "        ):\n",
        "            self.layer = layer\n",
        "            x = layer(x0, x)\n",
        "            if normalization:\n",
        "                x = normalization(x, training=training)\n",
        "            # sometimes all shapes are known, sometimes all shapes are None and sometimes some shapes are known and some\n",
        "            # are None. The last case is not supported in Cross layers, so this is a hot-fix\n",
        "            x0 = tf.reshape(x0, tf.shape(x))\n",
        "\n",
        "        for layer, normalization in zip_longest(\n",
        "            self._deep_layers, self._deep_layers_normalizations\n",
        "        ):\n",
        "            x = layer(x)\n",
        "            if normalization:\n",
        "                x = normalization(x, training=training)\n",
        "\n",
        "        x = self._sigmoid(x)\n",
        "\n",
        "        return x\n",
        "\n",
        "    def compute_loss(self, data, training=False):\n",
        "        # Pick data from generator which yield couples of data and label\n",
        "        d = data[0]\n",
        "        labels = data[1]\n",
        "        sample_weight = data[2] if len(data) == 3 else None\n",
        "        predictions = self(d, training=training)\n",
        "\n",
        "        return self.task(\n",
        "            labels=tf.expand_dims(labels, axis=1),\n",
        "            predictions=predictions,\n",
        "            sample_weight=sample_weight,\n",
        "        )"
      ],
      "id": "fbeab80f-853a-4d09-95b7-ab2bd0820442"
    },
    {
      "cell_type": "markdown",
      "metadata": {
        "id": "9481ad0d-7c3a-48ef-8b25-ee2d04249402"
      },
      "source": [
        "## Training/evaluation of model\n",
        " - train DCN model only on user history and evaluate its performance"
      ],
      "id": "9481ad0d-7c3a-48ef-8b25-ee2d04249402"
    },
    {
      "cell_type": "code",
      "execution_count": null,
      "metadata": {
        "id": "4cd361a9-7d3f-4ef0-8b87-b3b17ab369af"
      },
      "outputs": [],
      "source": [
        "def train(model, name, features):\n",
        "    \"\"\"Trains `model` using `features` and calls it using `name`.\"\"\"\n",
        "    set_seed()\n",
        "\n",
        "    train_data_shuffled = tf.data.experimental.make_csv_dataset(\n",
        "        TRAIN_DF_OUTPUT_PATH,\n",
        "        batch_size=BATCH_SIZE,\n",
        "        label_name=\"click\",\n",
        "        field_delim=\"\\t\",\n",
        "        num_epochs=None,  # read data infinitely\n",
        "        shuffle=True,\n",
        "        shuffle_seed=RANDOM_SEED,\n",
        "    ).map(lambda x, y: (str_user_embedding_to_vec(x), y))\n",
        "\n",
        "    ranking_model = model(\n",
        "        features=features,\n",
        "        cross_layers=1,\n",
        "        deep_layers=[512, 256],\n",
        "        entity_emb_size=64,\n",
        "        normalization=\"batch\",\n",
        "    )\n",
        "\n",
        "    # hack: turn eager execution on as tf is unable to find lenght of certain dimensions in data\n",
        "    tf.config.run_functions_eagerly(True)\n",
        "    ranking_model.compile(optimizer=tf.keras.optimizers.Adagrad(0.1))\n",
        "\n",
        "    # hack: load one item for tf to be able to decode dimensions properly\n",
        "    ranking_model(list(train_data_shuffled.take(1))[0][0])\n",
        "    # hack: in order to speed up training - turn eager exectuion off\n",
        "    tf.config.run_functions_eagerly(False)\n",
        "\n",
        "    train_log = ranking_model.fit(\n",
        "        train_data_shuffled,\n",
        "        workers=-1,\n",
        "        use_multiprocessing=True,\n",
        "        steps_per_epoch=BATCHES_PER_EPOCH,\n",
        "        epochs=3,\n",
        "        class_weight=label_weights,\n",
        "    )\n",
        "\n",
        "    test_predictions_hat = ranking_model.predict(\n",
        "        test_data_cached, use_multiprocessing=True\n",
        "    )\n",
        "    test_df[f\"pred_{name}\"] = test_predictions_hat\n",
        "\n",
        "    sampled_users[name] = sampled_users.apply(\n",
        "        lambda r: get_user_prediction(ranking_model, r, sampled_items), axis=1\n",
        "    )\n",
        "\n",
        "    ranking_model.save_weights(\n",
        "        os.path.join(MODEL_DIR, f\"{name.replace(' ', '_')}.weights\")\n",
        "    )"
      ],
      "id": "4cd361a9-7d3f-4ef0-8b87-b3b17ab369af"
    },
    {
      "cell_type": "code",
      "execution_count": null,
      "metadata": {
        "colab": {
          "background_save": true,
          "base_uri": "https://localhost:8080/"
        },
        "id": "ce8e2ca9-cf51-4d15-a643-222f9bebfaff",
        "outputId": "447d0b79-c8b7-405f-dbbc-29c52fde64b3"
      },
      "outputs": [
        {
          "name": "stderr",
          "output_type": "stream",
          "text": [
            "/usr/local/lib/python3.7/dist-packages/tensorflow/python/data/ops/structured_function.py:265: UserWarning: Even though the `tf.config.experimental_run_functions_eagerly` option is set, this option does not apply to tf.data functions. To force eager execution of tf.data functions, please use `tf.data.experimental.enable_debug_mode()`.\n",
            "  \"Even though the `tf.config.experimental_run_functions_eagerly` \"\n"
          ]
        },
        {
          "name": "stdout",
          "output_type": "stream",
          "text": [
            "Epoch 1/3\n",
            "191/191 [==============================] - 252s 1s/step - precision: 0.6737 - recall: 0.6826 - auc: 0.7181 - TP: 533909.3750 - TN: 523733.8125 - FP: 258610.9062 - FN: 248247.3125 - loss: 0.6059 - regularization_loss: 0.0000e+00 - total_loss: 0.6059\n",
            "Epoch 2/3\n",
            "191/191 [==============================] - 246s 1s/step - precision: 0.6860 - recall: 0.6976 - auc: 0.7365 - TP: 545777.5625 - TN: 532555.6250 - FP: 249776.8438 - FN: 236642.5781 - loss: 0.5874 - regularization_loss: 0.0000e+00 - total_loss: 0.5874\n",
            "Epoch 3/3\n",
            "191/191 [==============================] - 242s 1s/step - precision: 0.6886 - recall: 0.7045 - auc: 0.7397 - TP: 551436.4375 - TN: 532993.3750 - FP: 249322.5000 - FN: 231350.0000 - loss: 0.5841 - regularization_loss: 0.0000e+00 - total_loss: 0.5841\n"
          ]
        }
      ],
      "source": [
        "train(DCN, \"DCN model baseline\", [\"history\", \"impression\"])"
      ],
      "id": "ce8e2ca9-cf51-4d15-a643-222f9bebfaff"
    },
    {
      "cell_type": "markdown",
      "metadata": {
        "id": "c9645a11-c211-43a6-967a-56acdeb790e0"
      },
      "source": [
        "## Task 1\n",
        "\n",
        "Try using user subcategories history in DCN model, did it improve performance?"
      ],
      "id": "c9645a11-c211-43a6-967a-56acdeb790e0"
    },
    {
      "cell_type": "code",
      "execution_count": null,
      "metadata": {
        "colab": {
          "background_save": true
        },
        "id": "7f8849cc-65c4-45f1-88f9-4fca0f68de8b"
      },
      "outputs": [],
      "source": [
        "# TASK 1\n",
        "# Create vectorizer (text to int vector) for subcategories features\n",
        "# - use `tf.keras.layers.experimental.preprocessing.TextVectorization(output_mode, standardize, vocabulary)`\n",
        "# - output will be a vector of `int`s\n",
        "# - use no standardization, i.e., `None`\n",
        "# - use `SUBCATEGORIES` as vocabulary\n",
        "# tip: see `history_vectorizer`\n",
        "\n",
        "# TASK 1 - SOLUTION\n",
        "subcategory_vectorizer = tf.keras.layers.experimental.preprocessing.TextVectorization(\n",
        "    output_mode=\"int\", standardize=None, vocabulary=SUBCATEGORIES\n",
        ")"
      ],
      "id": "7f8849cc-65c4-45f1-88f9-4fca0f68de8b"
    },
    {
      "cell_type": "code",
      "execution_count": null,
      "metadata": {
        "colab": {
          "background_save": true
        },
        "id": "091a31a5-a670-45f4-a973-aadcd41cb90c"
      },
      "outputs": [],
      "source": [
        "class DCNCategories(DCN):\n",
        "    \"\"\"Implementation of stacked DCN architecture with categories features\"\"\"\n",
        "    def __init__(\n",
        "        self,\n",
        "        features,\n",
        "        cross_layers=1,\n",
        "        deep_layers=[128, 64],\n",
        "        entity_emb_size=64,\n",
        "        cat_emb_size=8,\n",
        "        subcat_emb_size=16,\n",
        "        projection_dim=None,\n",
        "        normalization=None,\n",
        "        **model_kwargs,\n",
        "    ):\n",
        "        super().__init__([f for f in features if f != \"history_all_subcategories\"],\n",
        "                         cross_layers,\n",
        "                         deep_layers,\n",
        "                         entity_emb_size,\n",
        "                         cat_emb_size,\n",
        "                         subcat_emb_size,\n",
        "                         projection_dim,\n",
        "                         normalization,\n",
        "                         **model_kwargs)\n",
        "\n",
        "        # TASK 1\n",
        "        # Create an embedding layer for subcategories features\n",
        "        # - replace `NotImplementedError` with implementation\n",
        "        # - use `tf.keras.layers.Embedding(input_dim, output_dim)`\n",
        "        # - use `subcategory_vectorizer` in order to obtain input dimension\n",
        "        # - use `subcat_emb_size` as output dimension\n",
        "        # tip: see `entity_id_embedder` in `DCN`\n",
        "\n",
        "        # TASK 1 - SOLUTION\n",
        "        subcat_id_embedder = tf.keras.layers.Embedding(\n",
        "            subcategory_vectorizer.vocabulary_size(), subcat_emb_size\n",
        "        )\n",
        "\n",
        "        # TASK 1\n",
        "        # Create feature transformation part for subcategories features\n",
        "        # - use `tf.keras.Sequential(layers)`\n",
        "        # - use input layer of type `tf.string`\n",
        "        # - use `subcategory_vectorize`\n",
        "        # - use `subcat_id_embedder`\n",
        "        # - use `tf.keras.layers.GlobalAveragePooling1D` in order to combine\n",
        "        #   subcategory vectors to a history vector\n",
        "        # tip: see `feature_fn[\"history\"]` in `DCN`\n",
        "\n",
        "        # TASK 1 - SOLUTION\n",
        "        subcategories_fn = tf.keras.Sequential([\n",
        "            tf.keras.layers.InputLayer(input_shape=(1,), dtype=tf.string),\n",
        "            subcategory_vectorizer,\n",
        "            subcat_id_embedder,\n",
        "            tf.keras.layers.GlobalAveragePooling1D(),\n",
        "        ])\n",
        "\n",
        "        self._features = features\n",
        "        self._feature_fn = {\n",
        "            **self._feature_fn, \"history_all_subcategories\": subcategories_fn\n",
        "        }"
      ],
      "id": "091a31a5-a670-45f4-a973-aadcd41cb90c"
    },
    {
      "cell_type": "code",
      "execution_count": null,
      "metadata": {
        "colab": {
          "background_save": true
        },
        "id": "bc4b1ef5-1d66-46c9-97cb-a2ac0ca92229",
        "outputId": "f67bbccf-3e3a-48dd-d540-552d7ceb22b6"
      },
      "outputs": [
        {
          "name": "stdout",
          "output_type": "stream",
          "text": [
            "Epoch 1/3\n",
            "191/191 [==============================] - 303s 2s/step - precision: 0.6741 - recall: 0.6852 - auc: 0.7195 - TP: 535948.5000 - TN: 523194.8750 - FP: 259150.0312 - FN: 246208.1406 - loss: 0.6048 - regularization_loss: 0.0000e+00 - total_loss: 0.6048\n",
            "Epoch 2/3\n",
            "191/191 [==============================] - 291s 2s/step - precision: 0.6872 - recall: 0.7037 - auc: 0.7402 - TP: 550600.3125 - TN: 531759.1250 - FP: 250573.6562 - FN: 231819.6562 - loss: 0.5834 - regularization_loss: 0.0000e+00 - total_loss: 0.5834\n",
            "Epoch 3/3\n",
            "191/191 [==============================] - 291s 2s/step - precision: 0.6907 - recall: 0.7128 - auc: 0.7447 - TP: 557989.2500 - TN: 532453.3125 - FP: 249862.6094 - FN: 224797.2031 - loss: 0.5783 - regularization_loss: 0.0000e+00 - total_loss: 0.5783\n"
          ]
        }
      ],
      "source": [
        "# TASK 1\n",
        "# Train the model DCN with subcategories and refresh the evaluation\n",
        "# - use `train(model, name, features)`\n",
        "# - use `\"history_all_subcategories\"` feature\n",
        "\n",
        "# TASK 1 - SOLUTION\n",
        "train(DCNCategories, \"DCN model subcategories\", [\"history\", \"impression\", \"history_all_subcategories\"])"
      ],
      "id": "bc4b1ef5-1d66-46c9-97cb-a2ac0ca92229"
    },
    {
      "cell_type": "markdown",
      "metadata": {
        "id": "1279e6e5-eadc-4196-a8fb-8e9cff9c202a"
      },
      "source": [
        "## Task 2\n",
        "\n",
        "Try implementing parallel DCN structure and using user embeddings created in previous notebook, did it improve performance?"
      ],
      "id": "1279e6e5-eadc-4196-a8fb-8e9cff9c202a"
    },
    {
      "cell_type": "code",
      "execution_count": null,
      "metadata": {
        "colab": {
          "background_save": true
        },
        "id": "74f7ea05-31b6-4a64-a9da-bf4c29db44d8"
      },
      "outputs": [],
      "source": [
        "class DCNParallel(DCN):\n",
        "    \"\"\"Implementation of parallel DCN architecture with user embeddings\"\"\"\n",
        "    def __init__(\n",
        "        self,\n",
        "        features,\n",
        "        cross_layers=1,\n",
        "        deep_layers=[128, 64],\n",
        "        entity_emb_size=64,\n",
        "        cat_emb_size=8,\n",
        "        subcat_emb_size=16,\n",
        "        projection_dim=None,\n",
        "        normalization=None,\n",
        "        **model_kwargs,\n",
        "    ):\n",
        "        super().__init__([f for f in features if f != \"user_embedding\"],\n",
        "                         cross_layers,\n",
        "                         deep_layers,\n",
        "                         entity_emb_size,\n",
        "                         cat_emb_size,\n",
        "                         subcat_emb_size,\n",
        "                         projection_dim,\n",
        "                         normalization,\n",
        "                         **model_kwargs)\n",
        "\n",
        "        # TASK 2\n",
        "        # Pass user embeddings to the model\n",
        "        # - replace `NotImplementedError` with implementation\n",
        "        # - use `tf.identity` as layer function\n",
        "\n",
        "        # TASK 2 - SOLUTION\n",
        "        user_embedding_fn = tf.identity\n",
        "\n",
        "        self._features = features\n",
        "        self._feature_fn = {\n",
        "            **self._feature_fn, \"user_embedding\": user_embedding_fn\n",
        "        }\n",
        "\n",
        "    def call(self, data, training=None):\n",
        "\n",
        "        embds = [\n",
        "            self._feature_fn[feature_name](data[feature_name])\n",
        "            for feature_name in self._features\n",
        "        ]\n",
        "\n",
        "        x0 = tf.concat(embds, axis=1)\n",
        "        x_crs = x0\n",
        "\n",
        "        for layer, normalization in zip_longest(\n",
        "            self._cross_layers, self._cross_layers_normalizations\n",
        "        ):\n",
        "            self.layer = layer\n",
        "            x_crs = layer(x0, x_crs)\n",
        "            if normalization:\n",
        "                x_crs = normalization(x_crs, training=training)\n",
        "            # sometimes all shapes are known, sometimes all shapes are None and sometimes some shapes are known and some\n",
        "            # are None. The last case is not supported in Cross layers, so this is a hot-fix\n",
        "            x0 = tf.reshape(x0, tf.shape(x_crs))\n",
        "\n",
        "        # TASK 2\n",
        "        # Implement parallel deep neural network\n",
        "        # - replace `NotImplementedError` with implementation\n",
        "        # - apply layers iteratively to `x_dnn`\n",
        "        # - apply normalization to `x_dnn`\n",
        "        # tip: see `call` method in `DCN`\n",
        "        x_dnn = x0\n",
        "\n",
        "        # TASK 2 - SOLUTION\n",
        "        for layer, normalization in zip_longest(\n",
        "            self._deep_layers, self._deep_layers_normalizations\n",
        "        ):\n",
        "            x_dnn = layer(x_dnn)\n",
        "            if normalization:\n",
        "                x_dnn = normalization(x_dnn, training=training)\n",
        "\n",
        "        # TASK 2\n",
        "        # Merge top layers of cross and deep networks\n",
        "        # - replace `NotImplementedError` with implementation\n",
        "        # - use `tf.concat(values, axis)`\n",
        "        # - concatenate the layers along the columns (0 - rows, 1 - columns)\n",
        "\n",
        "        # TASK 2 - SOLUTION\n",
        "        x_merged = tf.concat([x_crs, x_dnn], axis=1)\n",
        "\n",
        "        x = self._sigmoid(x_merged)\n",
        "\n",
        "        return x"
      ],
      "id": "74f7ea05-31b6-4a64-a9da-bf4c29db44d8"
    },
    {
      "cell_type": "code",
      "execution_count": null,
      "metadata": {
        "colab": {
          "background_save": true
        },
        "id": "fa2dfce5-6149-40ab-b5b0-41db378cc34c",
        "outputId": "a35248cd-3fd5-4b4c-8c4d-1c80ddb42997"
      },
      "outputs": [
        {
          "name": "stdout",
          "output_type": "stream",
          "text": [
            "Epoch 1/3\n",
            "191/191 [==============================] - 273s 1s/step - precision: 0.6790 - recall: 0.6811 - auc: 0.7311 - TP: 532706.4375 - TN: 530466.5625 - FP: 251878.1250 - FN: 249450.2031 - loss: 0.5992 - regularization_loss: 0.0000e+00 - total_loss: 0.5992\n",
            "Epoch 2/3\n",
            "191/191 [==============================] - 261s 1s/step - precision: 0.7054 - recall: 0.7138 - auc: 0.7710 - TP: 558470.3750 - TN: 549132.8750 - FP: 233199.8125 - FN: 223949.4531 - loss: 0.5609 - regularization_loss: 0.0000e+00 - total_loss: 0.5609\n",
            "Epoch 3/3\n",
            "191/191 [==============================] - 259s 1s/step - precision: 0.7153 - recall: 0.7279 - auc: 0.7823 - TP: 569777.3750 - TN: 555548.8750 - FP: 226767.0312 - FN: 213009.2500 - loss: 0.5474 - regularization_loss: 0.0000e+00 - total_loss: 0.5474\n"
          ]
        }
      ],
      "source": [
        "# TASK 2\n",
        "# Train the parallel DCN model with user embeddings and refresh the evaluation\n",
        "# - use `train(model, name, features)`\n",
        "# - use `\"user_embedding\"` feature\n",
        "\n",
        "# TASK 2 - SOLUTION\n",
        "train(DCNParallel, \"DCN model parallel\", [\"history\", \"impression\", \"user_embedding\"])"
      ],
      "id": "fa2dfce5-6149-40ab-b5b0-41db378cc34c"
    },
    {
      "cell_type": "markdown",
      "metadata": {
        "id": "445d1540-d316-4943-8f15-d9a1048289b5"
      },
      "source": [
        "## Evaluation"
      ],
      "id": "445d1540-d316-4943-8f15-d9a1048289b5"
    },
    {
      "cell_type": "code",
      "execution_count": null,
      "metadata": {
        "colab": {
          "background_save": true
        },
        "id": "70cd92fb-5605-448c-bf02-922e9ef00ed9",
        "outputId": "beb3ea2c-7c44-4b3a-8431-fe25ca9a6c32"
      },
      "outputs": [
        {
          "data": {
            "text/html": [
              "\n",
              "  <div id=\"df-59a40f40-386f-4f72-85bb-c9a8dbbd4f68\">\n",
              "    <div class=\"colab-df-container\">\n",
              "      <div>\n",
              "<style scoped>\n",
              "    .dataframe tbody tr th:only-of-type {\n",
              "        vertical-align: middle;\n",
              "    }\n",
              "\n",
              "    .dataframe tbody tr th {\n",
              "        vertical-align: top;\n",
              "    }\n",
              "\n",
              "    .dataframe thead th {\n",
              "        text-align: right;\n",
              "    }\n",
              "</style>\n",
              "<table border=\"1\" class=\"dataframe\">\n",
              "  <thead>\n",
              "    <tr style=\"text-align: right;\">\n",
              "      <th></th>\n",
              "      <th>metric</th>\n",
              "      <th>value</th>\n",
              "    </tr>\n",
              "  </thead>\n",
              "  <tbody>\n",
              "    <tr>\n",
              "      <th>0</th>\n",
              "      <td>novelty DCN model baseline</td>\n",
              "      <td>1.434645</td>\n",
              "    </tr>\n",
              "    <tr>\n",
              "      <th>1</th>\n",
              "      <td>novelty DCN model subcategories</td>\n",
              "      <td>1.773179</td>\n",
              "    </tr>\n",
              "    <tr>\n",
              "      <th>2</th>\n",
              "      <td>novelty DCN model parallel</td>\n",
              "      <td>1.666511</td>\n",
              "    </tr>\n",
              "    <tr>\n",
              "      <th>3</th>\n",
              "      <td>AUC DCN model baseline</td>\n",
              "      <td>0.674637</td>\n",
              "    </tr>\n",
              "    <tr>\n",
              "      <th>4</th>\n",
              "      <td>AUC DCN model subcategories</td>\n",
              "      <td>0.699386</td>\n",
              "    </tr>\n",
              "    <tr>\n",
              "      <th>5</th>\n",
              "      <td>AUC DCN model parallel</td>\n",
              "      <td>0.687334</td>\n",
              "    </tr>\n",
              "  </tbody>\n",
              "</table>\n",
              "</div>\n",
              "      <button class=\"colab-df-convert\" onclick=\"convertToInteractive('df-59a40f40-386f-4f72-85bb-c9a8dbbd4f68')\"\n",
              "              title=\"Convert this dataframe to an interactive table.\"\n",
              "              style=\"display:none;\">\n",
              "        \n",
              "  <svg xmlns=\"http://www.w3.org/2000/svg\" height=\"24px\"viewBox=\"0 0 24 24\"\n",
              "       width=\"24px\">\n",
              "    <path d=\"M0 0h24v24H0V0z\" fill=\"none\"/>\n",
              "    <path d=\"M18.56 5.44l.94 2.06.94-2.06 2.06-.94-2.06-.94-.94-2.06-.94 2.06-2.06.94zm-11 1L8.5 8.5l.94-2.06 2.06-.94-2.06-.94L8.5 2.5l-.94 2.06-2.06.94zm10 10l.94 2.06.94-2.06 2.06-.94-2.06-.94-.94-2.06-.94 2.06-2.06.94z\"/><path d=\"M17.41 7.96l-1.37-1.37c-.4-.4-.92-.59-1.43-.59-.52 0-1.04.2-1.43.59L10.3 9.45l-7.72 7.72c-.78.78-.78 2.05 0 2.83L4 21.41c.39.39.9.59 1.41.59.51 0 1.02-.2 1.41-.59l7.78-7.78 2.81-2.81c.8-.78.8-2.07 0-2.86zM5.41 20L4 18.59l7.72-7.72 1.47 1.35L5.41 20z\"/>\n",
              "  </svg>\n",
              "      </button>\n",
              "      \n",
              "  <style>\n",
              "    .colab-df-container {\n",
              "      display:flex;\n",
              "      flex-wrap:wrap;\n",
              "      gap: 12px;\n",
              "    }\n",
              "\n",
              "    .colab-df-convert {\n",
              "      background-color: #E8F0FE;\n",
              "      border: none;\n",
              "      border-radius: 50%;\n",
              "      cursor: pointer;\n",
              "      display: none;\n",
              "      fill: #1967D2;\n",
              "      height: 32px;\n",
              "      padding: 0 0 0 0;\n",
              "      width: 32px;\n",
              "    }\n",
              "\n",
              "    .colab-df-convert:hover {\n",
              "      background-color: #E2EBFA;\n",
              "      box-shadow: 0px 1px 2px rgba(60, 64, 67, 0.3), 0px 1px 3px 1px rgba(60, 64, 67, 0.15);\n",
              "      fill: #174EA6;\n",
              "    }\n",
              "\n",
              "    [theme=dark] .colab-df-convert {\n",
              "      background-color: #3B4455;\n",
              "      fill: #D2E3FC;\n",
              "    }\n",
              "\n",
              "    [theme=dark] .colab-df-convert:hover {\n",
              "      background-color: #434B5C;\n",
              "      box-shadow: 0px 1px 3px 1px rgba(0, 0, 0, 0.15);\n",
              "      filter: drop-shadow(0px 1px 2px rgba(0, 0, 0, 0.3));\n",
              "      fill: #FFFFFF;\n",
              "    }\n",
              "  </style>\n",
              "\n",
              "      <script>\n",
              "        const buttonEl =\n",
              "          document.querySelector('#df-59a40f40-386f-4f72-85bb-c9a8dbbd4f68 button.colab-df-convert');\n",
              "        buttonEl.style.display =\n",
              "          google.colab.kernel.accessAllowed ? 'block' : 'none';\n",
              "\n",
              "        async function convertToInteractive(key) {\n",
              "          const element = document.querySelector('#df-59a40f40-386f-4f72-85bb-c9a8dbbd4f68');\n",
              "          const dataTable =\n",
              "            await google.colab.kernel.invokeFunction('convertToInteractive',\n",
              "                                                     [key], {});\n",
              "          if (!dataTable) return;\n",
              "\n",
              "          const docLinkHtml = 'Like what you see? Visit the ' +\n",
              "            '<a target=\"_blank\" href=https://colab.research.google.com/notebooks/data_table.ipynb>data table notebook</a>'\n",
              "            + ' to learn more about interactive tables.';\n",
              "          element.innerHTML = '';\n",
              "          dataTable['output_type'] = 'display_data';\n",
              "          await google.colab.output.renderOutput(dataTable, element);\n",
              "          const docLink = document.createElement('div');\n",
              "          docLink.innerHTML = docLinkHtml;\n",
              "          element.appendChild(docLink);\n",
              "        }\n",
              "      </script>\n",
              "    </div>\n",
              "  </div>\n",
              "  "
            ],
            "text/plain": [
              "                            metric     value\n",
              "0       novelty DCN model baseline  1.434645\n",
              "1  novelty DCN model subcategories  1.773179\n",
              "2       novelty DCN model parallel  1.666511\n",
              "3           AUC DCN model baseline  0.674637\n",
              "4      AUC DCN model subcategories  0.699386\n",
              "5           AUC DCN model parallel  0.687334"
            ]
          },
          "metadata": {},
          "output_type": "display_data"
        },
        {
          "data": {
            "image/png": "[encoded data removed]",
            "text/plain": [
              "<Figure size 720x720 with 1 Axes>"
            ]
          },
          "metadata": {},
          "output_type": "display_data"
        },
        {
          "data": {
            "image/png": "[encoded data removed]",
            "text/plain": [
              "<Figure size 720x720 with 1 Axes>"
            ]
          },
          "metadata": {},
          "output_type": "display_data"
        }
      ],
      "source": [
        "models = OrderedDict((c, c[5:]) for c in test_df.columns if c.startswith(\"pred_\"))\n",
        "\n",
        "evaluate(\n",
        "    sampled_users,\n",
        "    test_df.rename(columns=models),\n",
        "    models.values(),\n",
        "    \"click\",\n",
        "    display\n",
        ")"
      ],
      "id": "70cd92fb-5605-448c-bf02-922e9ef00ed9"
    }
  ],
  "metadata": {
    "accelerator": "GPU",
    "colab": {
      "collapsed_sections": [],
      "name": "004_train_dcn_model_user_representation_sol.ipynb",
      "provenance": []
    },
    "kernelspec": {
      "display_name": "Python 3 (ipykernel)",
      "language": "python",
      "name": "python3"
    },
    "language_info": {
      "codemirror_mode": {
        "name": "ipython",
        "version": 3
      },
      "file_extension": ".py",
      "mimetype": "text/x-python",
      "name": "python",
      "nbconvert_exporter": "python",
      "pygments_lexer": "ipython3",
      "version": "3.9.5"
    }
  },
  "nbformat": 4,
  "nbformat_minor": 5
}