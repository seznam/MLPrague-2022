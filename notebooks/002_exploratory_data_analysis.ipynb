{
 "cells": [
  {
   "cell_type": "markdown",
   "id": "HTwf1pP-Rsv-",
   "metadata": {
    "id": "HTwf1pP-Rsv-"
   },
   "source": [
    "## Exploratory data analysis of cold-start dataset\n",
    " - We will explore newly created train/test datasets attributes and identify user cold-start problem\n",
    " - In particular we will verify that datasets still share common traits as it is prerequisite for proper modeling:\n",
    "   - compare items unique counts\n",
    "   - compare distribution of slate sizes\n",
    "   - compare distribution of slates per user\n",
    "   - compare history sizes\n",
    "   - compare click ratios\n",
    "   - compare categories and subcategories distribution\n",
    " - **Questions**:\n",
    "   - Does user cold-start occur in newly created dataset?\n",
    "   - How many users are affected by user cold-start?\n",
    "   - Does item cold-start occur in newly created dataset?"
   ]
  },
  {
   "cell_type": "code",
   "execution_count": null,
   "id": "c4d27f80-cc18-40d5-bd96-6512267780b5",
   "metadata": {
    "colab": {
     "base_uri": "https://localhost:8080/"
    },
    "id": "c4d27f80-cc18-40d5-bd96-6512267780b5",
    "outputId": "c1f86fad-d467-4775-a118-1e0d36716d15"
   },
   "outputs": [],
   "source": [
    "try:\n",
    "    from google.colab import drive\n",
    "\n",
    "    drive.mount('/content/gdrive')\n",
    "    BASE_DIR = \"/content/gdrive/MyDrive/mlprague2022\"\n",
    "    IN_COLAB = True\n",
    "except:\n",
    "    BASE_DIR = \"..\"\n",
    "    IN_COLAB = False\n",
    "\n",
    "import os\n",
    "import pandas as pd\n",
    "import matplotlib.pyplot as plt\n",
    "from collections import Counter\n",
    "import plotly.graph_objects as go"
   ]
  },
  {
   "cell_type": "code",
   "execution_count": null,
   "id": "a99ac43a-0bb1-4ed8-8a0f-df9c2f05dec7",
   "metadata": {
    "id": "a99ac43a-0bb1-4ed8-8a0f-df9c2f05dec7"
   },
   "outputs": [],
   "source": [
    "OUTPUT_DIR = os.path.join(BASE_DIR, \"data/mind_cold_start_datasets_basic/\")\n",
    "\n",
    "COLD_START_BEHAVIORS_TRAIN = os.path.join(OUTPUT_DIR, \"behaviors_train.tsv\")\n",
    "COLD_START_BEHAVIORS_TEST = os.path.join(OUTPUT_DIR, \"behaviors_test.tsv\")"
   ]
  },
  {
   "cell_type": "code",
   "execution_count": null,
   "id": "b6ffd585-4c00-4372-b788-8db5007589e7",
   "metadata": {
    "colab": {
     "base_uri": "https://localhost:8080/",
     "height": 423
    },
    "id": "b6ffd585-4c00-4372-b788-8db5007589e7",
    "outputId": "7e70e184-b030-40e1-8839-1e2707920f8c"
   },
   "outputs": [],
   "source": [
    "behaviors_train = pd.read_csv(COLD_START_BEHAVIORS_TRAIN, sep=\"\\t\")\n",
    "behaviors_train"
   ]
  },
  {
   "cell_type": "code",
   "execution_count": null,
   "id": "5OT80xzBe6lg",
   "metadata": {
    "colab": {
     "base_uri": "https://localhost:8080/",
     "height": 423
    },
    "id": "5OT80xzBe6lg",
    "outputId": "98951a2b-7d80-41aa-e36f-e77c4da21ede"
   },
   "outputs": [],
   "source": [
    "behaviors_test = pd.read_csv(COLD_START_BEHAVIORS_TEST, sep=\"\\t\")\n",
    "behaviors_test"
   ]
  },
  {
   "cell_type": "markdown",
   "id": "f524f370-cfa5-4b35-86f6-f80c2a518965",
   "metadata": {
    "id": "f524f370-cfa5-4b35-86f6-f80c2a518965",
    "tags": []
   },
   "source": [
    "### Unique slate count"
   ]
  },
  {
   "cell_type": "code",
   "execution_count": null,
   "id": "b533c640-ba8c-451d-ab40-554fcc271223",
   "metadata": {
    "colab": {
     "base_uri": "https://localhost:8080/"
    },
    "id": "b533c640-ba8c-451d-ab40-554fcc271223",
    "outputId": "d22cb370-89e1-42b6-fc14-d7950fd18871"
   },
   "outputs": [],
   "source": [
    "behaviors_train.slateid.nunique(), behaviors_test.slateid.nunique()"
   ]
  },
  {
   "cell_type": "markdown",
   "id": "eb4a3627-0f61-451e-9938-991d9934b72a",
   "metadata": {
    "id": "eb4a3627-0f61-451e-9938-991d9934b72a"
   },
   "source": [
    "### Unique user count"
   ]
  },
  {
   "cell_type": "code",
   "execution_count": null,
   "id": "a4b37ba0-21a8-446b-8636-0c8661555fe9",
   "metadata": {
    "colab": {
     "base_uri": "https://localhost:8080/"
    },
    "id": "a4b37ba0-21a8-446b-8636-0c8661555fe9",
    "outputId": "0948a5cd-70b7-4301-9f7c-862f76eb58ad"
   },
   "outputs": [],
   "source": [
    "# unique users per dataset\n",
    "behaviors_train.userid.nunique(), behaviors_test.userid.nunique()"
   ]
  },
  {
   "cell_type": "code",
   "execution_count": null,
   "id": "4XnPBAssr9Bm",
   "metadata": {
    "colab": {
     "base_uri": "https://localhost:8080/"
    },
    "id": "4XnPBAssr9Bm",
    "outputId": "d17aec31-ed40-4546-8d9d-156fbd3c4cd0"
   },
   "outputs": [],
   "source": [
    "# do datasets share users?\n",
    "len(set(behaviors_train.userid.unique()) & set(behaviors_test.userid.unique()))"
   ]
  },
  {
   "cell_type": "markdown",
   "id": "xRkTyd-Ubaaa",
   "metadata": {
    "id": "xRkTyd-Ubaaa"
   },
   "source": [
    "### Unique arcticles count"
   ]
  },
  {
   "cell_type": "code",
   "execution_count": null,
   "id": "lKmnTKpxbXK4",
   "metadata": {
    "id": "lKmnTKpxbXK4"
   },
   "outputs": [],
   "source": [
    "# unique articles per dataset\n",
    "train_unq_hist_articles = behaviors_train.history.map(lambda x: x.split()).explode().dropna().unique().tolist()\n",
    "train_uniq_imp_articles = behaviors_train.impressions.map(lambda x: [xx [:-2]for xx in x.split()]).explode().unique().tolist()\n",
    "\n",
    "train_unq_articles = set(train_unq_hist_articles + train_uniq_imp_articles)\n",
    "\n",
    "test_unq_hist_articles = behaviors_test.history.map(lambda x: x.split()).explode().dropna().unique().tolist()\n",
    "test_uniq_imp_articles = behaviors_test.impressions.map(lambda x: [xx [:-2]for xx in x.split()]).explode().unique().tolist()\n",
    "\n",
    "test_unq_articles = set(test_unq_hist_articles + test_uniq_imp_articles)"
   ]
  },
  {
   "cell_type": "code",
   "execution_count": null,
   "id": "1BqGBexT1CEH",
   "metadata": {
    "colab": {
     "base_uri": "https://localhost:8080/"
    },
    "id": "1BqGBexT1CEH",
    "outputId": "15eaf2dc-e012-42fa-cdf2-4c711111358a"
   },
   "outputs": [],
   "source": [
    "len(train_unq_articles), len(test_unq_articles)"
   ]
  },
  {
   "cell_type": "code",
   "execution_count": null,
   "id": "muTSVH6BsTdH",
   "metadata": {
    "colab": {
     "base_uri": "https://localhost:8080/"
    },
    "id": "muTSVH6BsTdH",
    "outputId": "d85d1f44-999a-4760-ab86-97e0efc000d4"
   },
   "outputs": [],
   "source": [
    "# do dataset share articles?\n",
    "len(train_unq_articles & test_unq_articles)"
   ]
  },
  {
   "cell_type": "markdown",
   "id": "QMxgQvmZcI3Y",
   "metadata": {
    "id": "QMxgQvmZcI3Y"
   },
   "source": [
    "### Unique categories count"
   ]
  },
  {
   "cell_type": "code",
   "execution_count": null,
   "id": "6wFaUdQAcH5F",
   "metadata": {
    "colab": {
     "base_uri": "https://localhost:8080/"
    },
    "id": "6wFaUdQAcH5F",
    "outputId": "49ca3f72-6d2d-4a05-e99a-1a582d8b67ea"
   },
   "outputs": [],
   "source": [
    "behaviors_train.history_all_categories.map(lambda x: x.split()).explode().nunique(), behaviors_test.history_all_categories.map(lambda x: x.split()).explode().nunique()"
   ]
  },
  {
   "cell_type": "markdown",
   "id": "JkY2LDv2cXAV",
   "metadata": {
    "id": "JkY2LDv2cXAV"
   },
   "source": [
    "### Unique subcategories count"
   ]
  },
  {
   "cell_type": "code",
   "execution_count": null,
   "id": "JnEBigBWcY7y",
   "metadata": {
    "colab": {
     "base_uri": "https://localhost:8080/"
    },
    "id": "JnEBigBWcY7y",
    "outputId": "502f1501-84ce-4892-e051-c385e0730b1a"
   },
   "outputs": [],
   "source": [
    "behaviors_train.history_all_subcategories.map(lambda x: x.split()).explode().nunique(), behaviors_test.history_all_subcategories.map(lambda x: x.split()).explode().nunique()"
   ]
  },
  {
   "cell_type": "code",
   "execution_count": null,
   "id": "5b095fd8-2f51-41d4-a4ab-d21362f78782",
   "metadata": {
    "id": "5b095fd8-2f51-41d4-a4ab-d21362f78782"
   },
   "outputs": [],
   "source": [
    "def item_len(x):\n",
    "    return len(x.split())"
   ]
  },
  {
   "cell_type": "code",
   "execution_count": null,
   "id": "a6260528-2af5-4112-9a09-356e6f2f6f51",
   "metadata": {
    "colab": {
     "base_uri": "https://localhost:8080/",
     "height": 295
    },
    "id": "a6260528-2af5-4112-9a09-356e6f2f6f51",
    "outputId": "a077fa8b-0a82-49d1-d2a7-dfa8323b10a7"
   },
   "outputs": [],
   "source": [
    "bins = range(50)\n",
    "ax = behaviors_train[\"impressions\"].apply(item_len).plot.hist(\n",
    "    bins=bins, figsize=(20, 4), cumulative=True, density=True, title=\"Cumulative distribution of slates w.r.t. their size\", histtype=\"step\"\n",
    ")\n",
    "\n",
    "behaviors_test[\"impressions\"].apply(item_len).plot.hist(\n",
    "     bins=bins, ax=ax, cumulative=True, density=True, histtype=\"step\"\n",
    ")\n",
    "\n",
    "\n",
    "plt.legend([\"Train dataset\", \"Test dataset\"])\n",
    "\n",
    "plt.xlabel(\"Slate size\")\n",
    "plt.show()"
   ]
  },
  {
   "cell_type": "code",
   "execution_count": null,
   "id": "fbf59f3e-e7af-4118-a37f-50452b6601ac",
   "metadata": {
    "colab": {
     "base_uri": "https://localhost:8080/",
     "height": 295
    },
    "id": "fbf59f3e-e7af-4118-a37f-50452b6601ac",
    "outputId": "159d01b1-990e-4eba-95a2-30ad7ab21a03"
   },
   "outputs": [],
   "source": [
    "bins=range(10)\n",
    "\n",
    "ax = behaviors_train.groupby(\"userid\")[\"slateid\"].count().plot.hist(\n",
    "    bins=bins, figsize=(20, 4), cumulative=True, density=True, histtype=\"step\", title=\"Cumulative distribution of users w.r.t. slate count\"\n",
    ")\n",
    "\n",
    "behaviors_test.groupby(\"userid\")[\"slateid\"].count().plot.hist(\n",
    "    bins=bins, cumulative=True, density=True, histtype=\"step\"\n",
    ")\n",
    "\n",
    "plt.legend([\"Train dataset\", \"Test dataset\"])\n",
    "\n",
    "plt.xlabel(\"Slate count\")\n",
    "plt.show()"
   ]
  },
  {
   "cell_type": "code",
   "execution_count": null,
   "id": "753727b6-fbbc-473e-be15-5b3cc4cee109",
   "metadata": {
    "colab": {
     "base_uri": "https://localhost:8080/",
     "height": 295
    },
    "id": "753727b6-fbbc-473e-be15-5b3cc4cee109",
    "outputId": "d6a6dc65-1b08-4ea4-c6e1-9bd2cba04437"
   },
   "outputs": [],
   "source": [
    "bins=range(50)\n",
    "\n",
    "ax = behaviors_train[\"history\"].apply(item_len).plot.hist(\n",
    "    bins=bins, figsize=(20, 4), cumulative=True, density=True, histtype = \"step\", title=\"Cumulative distribution of history sizes\"\n",
    ")\n",
    "\n",
    "ax = behaviors_test[\"history\"].apply(item_len).plot.hist(\n",
    "    bins=bins, cumulative=True, density=True, histtype = \"step\"\n",
    ")\n",
    "\n",
    "plt.legend([\"Train dataset\", \"Test dataset\"])\n",
    "\n",
    "plt.xlabel(\"History size\")\n",
    "plt.show()"
   ]
  },
  {
   "cell_type": "code",
   "execution_count": null,
   "id": "7aa79d30-7cf5-4b43-8a18-c34eb457f8db",
   "metadata": {
    "id": "7aa79d30-7cf5-4b43-8a18-c34eb457f8db"
   },
   "outputs": [],
   "source": [
    "behaviors_train[\"clicks\"] = behaviors_train[\"impressions\"].apply(\n",
    "    lambda x: \" \".join(xx[:-2] for xx in x.split(\" \") if xx.endswith(\"1\"))\n",
    ")\n",
    "\n",
    "behaviors_test[\"clicks\"] = behaviors_test[\"impressions\"].apply(\n",
    "    lambda x: \" \".join(xx[:-2] for xx in x.split(\" \") if xx.endswith(\"1\"))\n",
    ")"
   ]
  },
  {
   "cell_type": "code",
   "execution_count": null,
   "id": "f32dde0c-555d-4d3d-a595-577c02439db0",
   "metadata": {
    "colab": {
     "base_uri": "https://localhost:8080/",
     "height": 295
    },
    "id": "f32dde0c-555d-4d3d-a595-577c02439db0",
    "outputId": "3e010e23-55d7-4aa3-f044-0d850d2dd424"
   },
   "outputs": [],
   "source": [
    "bins=range(10)\n",
    "\n",
    "ax = (\n",
    "    behaviors_train.assign(clicks_cnt=lambda x: x[\"clicks\"].apply(item_len))\n",
    "    .groupby(\"userid\")[\"clicks_cnt\"]\n",
    "    .sum()\n",
    "    .plot.hist(\n",
    "        bins=bins, figsize=(20, 4), density=True, cumulative=True, histtype=\"step\", title=\"Cumulative distribution of users w.r.t. their clicks\"\n",
    "    )\n",
    ")\n",
    "\n",
    "(\n",
    "    behaviors_test.assign(clicks_cnt=lambda x: x[\"clicks\"].apply(item_len))\n",
    "    .groupby(\"userid\")[\"clicks_cnt\"]\n",
    "    .sum()\n",
    "    .plot.hist(\n",
    "        bins=bins, ax=ax, density=True, cumulative=True, histtype=\"step\"\n",
    "    )\n",
    ")\n",
    "\n",
    "plt.legend([\"Train dataset\", \"Test dataset\"])\n",
    "\n",
    "plt.xlabel(\"Clicks\")\n",
    "plt.show()"
   ]
  },
  {
   "cell_type": "code",
   "execution_count": null,
   "id": "xr7YlM29fu9A",
   "metadata": {
    "id": "xr7YlM29fu9A"
   },
   "outputs": [],
   "source": [
    "def compute_cat_hist(df, col):\n",
    "  hist_cat = Counter(\n",
    "      df.drop_duplicates([\"userid\"])[col]\n",
    "      .apply(lambda x: x.split())\n",
    "      .explode()\n",
    "  )\n",
    "\n",
    "  hist_cat = pd.Series(hist_cat).to_frame(\"cnt\")\n",
    "  hist_cat[\"prob\"] = hist_cat[\"cnt\"] / hist_cat[\"cnt\"].sum()\n",
    "  hist_cat.sort_values(\"prob\", ascending=False, inplace=True)\n",
    "\n",
    "  return hist_cat\n",
    "\n",
    "def plot_cat_hist(df_train, df_test, col, title):\n",
    "  hist_cat_train = compute_cat_hist(df_train, col)\n",
    "  hist_cat_test = compute_cat_hist(df_test, col)\n",
    "\n",
    "  fig = go.Figure(data=[\n",
    "                        go.Bar(x=hist_cat_train.index, y=hist_cat_train[\"prob\"], name=\"Train dataset\"),\n",
    "                        go.Bar(x=hist_cat_test.index, y=hist_cat_test[\"prob\"], name=\"Test dataset\")\n",
    "  ])\n",
    "\n",
    "  fig.update_layout(title_text=title)\n",
    "\n",
    "  fig.show()"
   ]
  },
  {
   "cell_type": "code",
   "execution_count": null,
   "id": "10b6076e-f62a-4f2a-917b-96f8ba7bd322",
   "metadata": {
    "colab": {
     "base_uri": "https://localhost:8080/",
     "height": 542
    },
    "id": "10b6076e-f62a-4f2a-917b-96f8ba7bd322",
    "outputId": "defd54fe-d91d-4144-8f62-ce840cd0d643"
   },
   "outputs": [],
   "source": [
    "plot_cat_hist(behaviors_train, behaviors_test, \"history_all_categories\", \"Distribution of categories among users - test vs train\")"
   ]
  },
  {
   "cell_type": "code",
   "execution_count": null,
   "id": "e01_PU0WWBiK",
   "metadata": {
    "colab": {
     "base_uri": "https://localhost:8080/",
     "height": 542
    },
    "id": "e01_PU0WWBiK",
    "outputId": "dfcaaae4-a7b8-4c49-e336-30e5730eba81"
   },
   "outputs": [],
   "source": [
    "plot_cat_hist(behaviors_train, behaviors_test, \"history_all_subcategories\", \"Distribution of subcategories among users - test vs train\")"
   ]
  }
 ],
 "metadata": {
  "colab": {
   "collapsed_sections": [],
   "name": "002_exploratory_data_analysis.ipynb",
   "provenance": []
  },
  "kernelspec": {
   "display_name": "Python 3 (ipykernel)",
   "language": "python",
   "name": "python3"
  },
  "language_info": {
   "codemirror_mode": {
    "name": "ipython",
    "version": 3
   },
   "file_extension": ".py",
   "mimetype": "text/x-python",
   "name": "python",
   "nbconvert_exporter": "python",
   "pygments_lexer": "ipython3",
   "version": "3.7.10"
  }
 },
 "nbformat": 4,
 "nbformat_minor": 5
}
