{
 "cells": [
  {
   "cell_type": "markdown",
   "id": "HTwf1pP-Rsv-",
   "metadata": {
    "id": "HTwf1pP-Rsv-"
   },
   "source": [
    "## Exploratory data analysis of cold-start dataset\n",
    " - We will explore newly created train/test datasets attributes in the following tasks"
   ]
  },
  {
   "cell_type": "code",
   "execution_count": 2,
   "id": "c4d27f80-cc18-40d5-bd96-6512267780b5",
   "metadata": {
    "colab": {
     "base_uri": "https://localhost:8080/"
    },
    "id": "c4d27f80-cc18-40d5-bd96-6512267780b5",
    "outputId": "c1f86fad-d467-4775-a118-1e0d36716d15"
   },
   "outputs": [],
   "source": [
    "try:\n",
    "    from google.colab import drive\n",
    "\n",
    "    drive.mount('/content/gdrive')\n",
    "    BASE_DIR = \"/content/gdrive/MyDrive/mlprague2022\"\n",
    "    IN_COLAB = True\n",
    "except:\n",
    "    BASE_DIR = \"..\"\n",
    "    IN_COLAB = False\n",
    "\n",
    "import os\n",
    "import pandas as pd\n",
    "import matplotlib.pyplot as plt\n",
    "from collections import Counter\n",
    "import plotly.graph_objects as go"
   ]
  },
  {
   "cell_type": "code",
   "execution_count": 3,
   "id": "a99ac43a-0bb1-4ed8-8a0f-df9c2f05dec7",
   "metadata": {
    "id": "a99ac43a-0bb1-4ed8-8a0f-df9c2f05dec7"
   },
   "outputs": [],
   "source": [
    "OUTPUT_DIR = os.path.join(BASE_DIR, \"data/mind_cold_start_datasets_basic/\")\n",
    "\n",
    "COLD_START_BEHAVIORS_TRAIN = os.path.join(OUTPUT_DIR, \"behaviors_train.tsv\")\n",
    "COLD_START_BEHAVIORS_TEST = os.path.join(OUTPUT_DIR, \"behaviors_test.tsv\")"
   ]
  },
  {
   "cell_type": "code",
   "execution_count": 7,
   "id": "b6ffd585-4c00-4372-b788-8db5007589e7",
   "metadata": {
    "colab": {
     "base_uri": "https://localhost:8080/",
     "height": 423
    },
    "id": "b6ffd585-4c00-4372-b788-8db5007589e7",
    "outputId": "7e70e184-b030-40e1-8839-1e2707920f8c"
   },
   "outputs": [],
   "source": [
    "behaviors_train = pd.read_csv(COLD_START_BEHAVIORS_TRAIN, sep=\"\\t\")\n",
    "behaviors_test = pd.read_csv(COLD_START_BEHAVIORS_TEST, sep=\"\\t\")"
   ]
  },
  {
   "cell_type": "code",
   "execution_count": null,
   "id": "f32d882b-fc15-4307-b992-c7f17a0d1815",
   "metadata": {},
   "outputs": [],
   "source": [
    "# TASK 1: dataset attributes\n",
    "# - what kind of data dataset contains?"
   ]
  },
  {
   "cell_type": "code",
   "execution_count": 12,
   "id": "5de42cef-c3ce-4238-b957-b3ac411a51f7",
   "metadata": {},
   "outputs": [],
   "source": [
    "# TASK 1: uncomment following line\n",
    "# behaviors_train"
   ]
  },
  {
   "cell_type": "code",
   "execution_count": 13,
   "id": "082459a2-fe41-47bf-98fc-34f26c12ec02",
   "metadata": {},
   "outputs": [],
   "source": [
    "# TASK 1: uncomment following line\n",
    "# behaviors_train.info()"
   ]
  },
  {
   "cell_type": "code",
   "execution_count": null,
   "id": "b0bea12c-fa5a-4348-af90-fc1313d4fed6",
   "metadata": {},
   "outputs": [],
   "source": [
    "# TASK 1: uncomment following line\n",
    "# behaviors_test"
   ]
  },
  {
   "cell_type": "code",
   "execution_count": null,
   "id": "ba1a10c5-487c-4a49-b071-177702cf07a0",
   "metadata": {},
   "outputs": [],
   "source": [
    "# TASK 1: uncomment following line\n",
    "# behaviors_test.info()"
   ]
  },
  {
   "cell_type": "code",
   "execution_count": 64,
   "id": "7b86b5e0-1d8a-4bd2-b234-6ab46f1b8c8e",
   "metadata": {
    "tags": []
   },
   "outputs": [],
   "source": [
    "# TASK 1: uncomment following lines\n",
    "\n",
    "# def compute_cat_hist(df, col):\n",
    "#   hist_cat = Counter(\n",
    "#       df.drop_duplicates([\"userid\"])[col]\n",
    "#       .apply(lambda x: x.split())\n",
    "#       .explode()\n",
    "#   )\n",
    "\n",
    "#   hist_cat = pd.Series(hist_cat).to_frame(\"cnt\")\n",
    "#   hist_cat[\"prob\"] = hist_cat[\"cnt\"] / hist_cat[\"cnt\"].sum()\n",
    "#   hist_cat.sort_values(\"prob\", ascending=False, inplace=True)\n",
    "\n",
    "#   return hist_cat\n",
    "\n",
    "# def plot_cat_hist(df_train, df_test, col, title):\n",
    "#   hist_cat_train = compute_cat_hist(df_train, col)\n",
    "#   hist_cat_test = compute_cat_hist(df_test, col)\n",
    "\n",
    "#   fig = go.Figure(data=[\n",
    "#                         go.Bar(x=hist_cat_train.index, y=hist_cat_train[\"prob\"], name=\"Train dataset\"),\n",
    "#                         go.Bar(x=hist_cat_test.index, y=hist_cat_test[\"prob\"], name=\"Test dataset\")\n",
    "#   ])\n",
    "\n",
    "#   fig.update_layout(title_text=title)\n",
    "\n",
    "#   fig.show()\n",
    "\n",
    "# plot_cat_hist(behaviors_train, behaviors_test, \"history_all_categories\", \"Distribution of categories among users - test vs train\")\n",
    "# plot_cat_hist(behaviors_train, behaviors_test, \"history_all_subcategories\", \"Distribution of subcategories among users - test vs train\")"
   ]
  },
  {
   "cell_type": "code",
   "execution_count": 28,
   "id": "d929ddd2-a17e-41de-8243-dc27e968d9e9",
   "metadata": {},
   "outputs": [],
   "source": [
    "# TASK 2: cold-start detection\n",
    "# - there are two main types of cold-start problem\n",
    "#   1) item cold-start\n",
    "#      - predicted entities are present only in the test dataset\n",
    "#   2) user cold-start\n",
    "#      - user history is empty\n",
    "# - more info can be found https://en.wikipedia.org/wiki/Cold_start_(recommender_systems)"
   ]
  },
  {
   "cell_type": "code",
   "execution_count": null,
   "id": "3792201f-dbbf-42af-ba5f-5798fbe6e7e3",
   "metadata": {},
   "outputs": [],
   "source": [
    "# TASK 2: item cold-start"
   ]
  },
  {
   "cell_type": "code",
   "execution_count": 14,
   "id": "9bd45390-6ab9-465d-9e6f-7d30af642f87",
   "metadata": {
    "id": "lKmnTKpxbXK4"
   },
   "outputs": [],
   "source": [
    "# TASK 2: uncomment and gather unique article ids from train dataset\n",
    "# train_unq_hist_articles = behaviors_train.history.map(lambda x: x.split()).explode().dropna().unique().tolist()\n",
    "# train_uniq_imp_articles = behaviors_train.impressions.map(lambda x: [xx [:-2]for xx in x.split()]).explode().unique().tolist()\n",
    "# train_unq_articles = set(train_unq_hist_articles + train_uniq_imp_articles)\n",
    "\n",
    "# TASK 2: uncomment and gather unique article ids from test dataset\n",
    "# test_unq_hist_articles = behaviors_test.history.map(lambda x: x.split()).explode().dropna().unique().tolist()\n",
    "# test_uniq_imp_articles = behaviors_test.impressions.map(lambda x: [xx [:-2]for xx in x.split()]).explode().unique().tolist()\n",
    "# test_unq_articles = set(test_unq_hist_articles + test_uniq_imp_articles)"
   ]
  },
  {
   "cell_type": "code",
   "execution_count": 34,
   "id": "2891fc9f-5a1e-4c28-85b1-71093881b71f",
   "metadata": {
    "id": "lKmnTKpxbXK4"
   },
   "outputs": [],
   "source": [
    "# TASK 2: uncomment and display unique articles per dataset\n",
    "# len(train_unq_articles), len(test_unq_articles)"
   ]
  },
  {
   "cell_type": "code",
   "execution_count": 35,
   "id": "muTSVH6BsTdH",
   "metadata": {
    "colab": {
     "base_uri": "https://localhost:8080/"
    },
    "id": "muTSVH6BsTdH",
    "outputId": "d85d1f44-999a-4760-ab86-97e0efc000d4"
   },
   "outputs": [],
   "source": [
    "# TASK 2: uncomment and display how many unique articles do datasets have in common?\n",
    "# len(train_unq_articles & test_unq_articles)"
   ]
  },
  {
   "cell_type": "code",
   "execution_count": 36,
   "id": "b7cf5bbb-8d82-4abb-b6dc-c3596b5ec166",
   "metadata": {},
   "outputs": [],
   "source": [
    "# TASK 2: is item-cold going to play a role?"
   ]
  },
  {
   "cell_type": "code",
   "execution_count": 19,
   "id": "7ea3eabf-715b-4b74-a2bc-ec25997b26a2",
   "metadata": {
    "id": "5b095fd8-2f51-41d4-a4ab-d21362f78782"
   },
   "outputs": [],
   "source": [
    "# TASK 3: user cold-start"
   ]
  },
  {
   "cell_type": "code",
   "execution_count": 19,
   "id": "4284bd1d-dbb5-4651-ba96-d3ff5a90378d",
   "metadata": {
    "id": "5b095fd8-2f51-41d4-a4ab-d21362f78782"
   },
   "outputs": [],
   "source": [
    "# TASK 3: uncomment in order to render histogram of user history sizes\n",
    "\n",
    "# def item_len(x):\n",
    "#     return len(x.split())\n",
    "\n",
    "# bins=range(50)\n",
    "\n",
    "# ax = behaviors_train[\"history\"].apply(item_len).plot.hist(\n",
    "#     bins=bins, figsize=(20, 4), cumulative=True, density=True, histtype = \"step\", title=\"Cumulative distribution of history sizes\"\n",
    "# )\n",
    "\n",
    "# ax = behaviors_test[\"history\"].apply(item_len).plot.hist(\n",
    "#     bins=bins, cumulative=True, density=True, histtype = \"step\"\n",
    "# )\n",
    "\n",
    "# plt.legend([\"Train dataset\", \"Test dataset\"])\n",
    "\n",
    "# plt.xlabel(\"History size\")\n",
    "# plt.show()"
   ]
  },
  {
   "cell_type": "code",
   "execution_count": 37,
   "id": "753727b6-fbbc-473e-be15-5b3cc4cee109",
   "metadata": {
    "colab": {
     "base_uri": "https://localhost:8080/",
     "height": 295
    },
    "id": "753727b6-fbbc-473e-be15-5b3cc4cee109",
    "outputId": "d6a6dc65-1b08-4ea4-c6e1-9bd2cba04437"
   },
   "outputs": [],
   "source": [
    "# TASK 3: is item cold-start going to play a role?"
   ]
  },
  {
   "cell_type": "code",
   "execution_count": 38,
   "id": "eadf244b-a08c-40c4-b04a-03cf02b196aa",
   "metadata": {},
   "outputs": [],
   "source": [
    "# TASK 4: unbalanced dataset\n",
    "# - certain types of classifiers have problems with unbalanced distribution of target labels\n",
    "# - more info can be found in the following resource: https://www.analyticsvidhya.com/blog/2021/06/5-techniques-to-handle-imbalanced-data-for-a-classification-problem/\n",
    "# - is it likely that our model will suffer from unbalanced distribution of labels?"
   ]
  },
  {
   "cell_type": "code",
   "execution_count": 61,
   "id": "296a076d-102f-470d-86c6-6ac024f94fe9",
   "metadata": {},
   "outputs": [],
   "source": [
    "# TASK 4: uncomment following lines in order to gather click occurence\n",
    "#\n",
    "#behaviors_train[\"impressions\"].apply(\n",
    "#    lambda x: [int(xx[-1]) for xx in x.split(\" \")]\n",
    "#).explode().value_counts().to_frame(\"interaction\").plot.bar(\n",
    "#    title=\"Clicks vs non-clicks\"\n",
    "#)\n",
    "#\n",
    "#plt.xlabel(\"interaction\")\n",
    "#plt.ylabel(\"rows count\")"
   ]
  }
 ],
 "metadata": {
  "colab": {
   "collapsed_sections": [],
   "name": "002_exploratory_data_analysis.ipynb",
   "provenance": []
  },
  "kernelspec": {
   "display_name": "Python 3 (ipykernel)",
   "language": "python",
   "name": "python3"
  },
  "language_info": {
   "codemirror_mode": {
    "name": "ipython",
    "version": 3
   },
   "file_extension": ".py",
   "mimetype": "text/x-python",
   "name": "python",
   "nbconvert_exporter": "python",
   "pygments_lexer": "ipython3",
   "version": "3.7.10"
  }
 },
 "nbformat": 4,
 "nbformat_minor": 5
}
